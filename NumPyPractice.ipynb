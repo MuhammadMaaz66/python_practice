{
 "cells": [
  {
   "cell_type": "markdown",
   "id": "992759f6-d3bb-4e34-9261-0e192b236bc7",
   "metadata": {},
   "source": [
    "### Numpy practice"
   ]
  },
  {
   "cell_type": "code",
   "execution_count": 39,
   "id": "d830c48a-e77b-4195-9619-11c03b81b0d0",
   "metadata": {},
   "outputs": [
    {
     "name": "stdout",
     "output_type": "stream",
     "text": [
      "[3 3]\n",
      "35\n",
      "[[ 3  5  9]\n",
      " [ 4 40 35]]\n",
      "[[  2   6  20]\n",
      " [  4 175  96]]\n",
      "[[       1        8     1024]\n",
      " [       4 52521875    32768]]\n",
      "12.666666666666666\n",
      "35\n",
      "1\n",
      "14.783624574357791\n"
     ]
    }
   ],
   "source": [
    "import numpy as np\n",
    "array = np.array([2,3,3,3,2])\n",
    "a = np.array([[1, 2,4],[2, 35,32]])\n",
    "b = np.array([[2, 3,5],[2, 5,3]])\n",
    "print(array[1: 3])\n",
    "print(a[1,1])\n",
    "print(a+b)\n",
    "print(a*b)\n",
    "print(a**b)\n",
    "print(a.mean())\n",
    "print(a.max())\n",
    "print(a.min())\n",
    "print(a.std())"
   ]
  },
  {
   "cell_type": "code",
   "execution_count": 17,
   "id": "ff5689c5-acc2-4b11-9b77-76ca3e367f08",
   "metadata": {},
   "outputs": [
    {
     "name": "stdout",
     "output_type": "stream",
     "text": [
      "[[0. 0. 0.]\n",
      " [0. 0. 0.]\n",
      " [0. 0. 0.]]\n",
      "[[1. 1. 1.]\n",
      " [1. 1. 1.]\n",
      " [1. 1. 1.]]\n",
      "[2]\n",
      "[0.   0.25 0.5  0.75 1.  ]\n"
     ]
    }
   ],
   "source": [
    "print(np.zeros((3,3)))\n",
    "print(np.ones((3,3)))\n",
    "print(np.arange(2,5,3))\n",
    "print(np.linspace(0, 1, 5))"
   ]
  },
  {
   "cell_type": "markdown",
   "id": "1567b5ac-9855-492d-a35a-a7f8da3247ea",
   "metadata": {},
   "source": [
    "#### Problem 1:"
   ]
  },
  {
   "cell_type": "markdown",
   "id": "b8c8e997-5c8b-4448-b9ba-799be94757f5",
   "metadata": {},
   "source": [
    "###### Create a 1D array of numbers from 1 to 10, square each value, then find the average."
   ]
  },
  {
   "cell_type": "code",
   "execution_count": 30,
   "id": "5b872ec2-a0f3-4827-b81a-b5b69f6dc502",
   "metadata": {},
   "outputs": [
    {
     "name": "stdout",
     "output_type": "stream",
     "text": [
      "array = [ 1  2  3  4  5  6  7  8  9 10]\n",
      "square of each value=  [  1   4   9  16  25  36  49  64  81 100]\n",
      "average =  5.5\n"
     ]
    }
   ],
   "source": [
    "a = np.array([1, 2,3,4,5,6,7,8,9,10])\n",
    "print(\"array =\", a)\n",
    "print(\"square of each value= \", a**2)\n",
    "print(\"average = \", np.average(a))"
   ]
  },
  {
   "cell_type": "markdown",
   "id": "2475b552-9cf0-476c-a912-4e573da91859",
   "metadata": {},
   "source": [
    "#### Problem 2:"
   ]
  },
  {
   "cell_type": "markdown",
   "id": "7dc6def0-94bd-48de-848f-6e3fd7724a55",
   "metadata": {},
   "source": [
    "###### Simulate 100 dice rolls (values from 1–6), then count how many times each number occurred."
   ]
  },
  {
   "cell_type": "code",
   "execution_count": 47,
   "id": "89b152b4-9117-4c51-98de-5eb88552eaab",
   "metadata": {},
   "outputs": [
    {
     "name": "stdout",
     "output_type": "stream",
     "text": [
      "[3 3 1 4 3 2 6 3 5 3 2 1 6 6 1 5 3 1 1 1 6 6 5 5 6 2 5 2 2 1 3 1 5 6 6 2 2\n",
      " 2 6 1 6 6 1 6 6 6 4 5 4 6 3 3 3 2 3 3 5 2 6 4 2 5 2 6 1 2 3 4 3 6 6 1 4 6\n",
      " 1 3 6 6 3 6 4 2 5 5 4 4 4 4 1 6 3 5 6 4 5 2 5 3 2 3]\n",
      "{1: 14, 2: 16, 3: 19, 4: 12, 5: 14, 6: 25}\n"
     ]
    }
   ],
   "source": [
    "rolls = np.random.randint(1,7, size=100)\n",
    "print(rolls)\n",
    "(unique, counts) = np.unique(rolls, return_counts=True)\n",
    "results = {int(k): int(v) for k, v in zip(unique, counts)}\n",
    "print(results)\n"
   ]
  }
 ],
 "metadata": {
  "kernelspec": {
   "display_name": "Python 3 (ipykernel)",
   "language": "python",
   "name": "python3"
  },
  "language_info": {
   "codemirror_mode": {
    "name": "ipython",
    "version": 3
   },
   "file_extension": ".py",
   "mimetype": "text/x-python",
   "name": "python",
   "nbconvert_exporter": "python",
   "pygments_lexer": "ipython3",
   "version": "3.12.6"
  }
 },
 "nbformat": 4,
 "nbformat_minor": 5
}
