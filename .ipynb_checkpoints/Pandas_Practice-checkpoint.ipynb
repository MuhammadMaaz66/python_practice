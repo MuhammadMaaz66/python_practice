{
 "cells": [
  {
   "cell_type": "code",
   "execution_count": 1,
   "id": "1f055fee-26e7-491a-a139-4e51f2ec5c14",
   "metadata": {},
   "outputs": [],
   "source": [
    "import pandas as pd"
   ]
  },
  {
   "cell_type": "code",
   "execution_count": 19,
   "id": "14aad75e-cbd1-4f6d-a8d4-ea8bbeeeeefd",
   "metadata": {},
   "outputs": [
    {
     "name": "stdout",
     "output_type": "stream",
     "text": [
      "     Name  Age Grade\n",
      "0     Ali   17     A\n",
      "1    Sara   18     B\n",
      "2    John   17     A\n",
      "3  Areeba   19     C\n"
     ]
    },
    {
     "data": {
      "text/html": [
       "<div>\n",
       "<style scoped>\n",
       "    .dataframe tbody tr th:only-of-type {\n",
       "        vertical-align: middle;\n",
       "    }\n",
       "\n",
       "    .dataframe tbody tr th {\n",
       "        vertical-align: top;\n",
       "    }\n",
       "\n",
       "    .dataframe thead th {\n",
       "        text-align: right;\n",
       "    }\n",
       "</style>\n",
       "<table border=\"1\" class=\"dataframe\">\n",
       "  <thead>\n",
       "    <tr style=\"text-align: right;\">\n",
       "      <th></th>\n",
       "      <th>Name</th>\n",
       "      <th>Age</th>\n",
       "      <th>Grade</th>\n",
       "    </tr>\n",
       "  </thead>\n",
       "  <tbody>\n",
       "    <tr>\n",
       "      <th>0</th>\n",
       "      <td>Ali</td>\n",
       "      <td>17</td>\n",
       "      <td>A</td>\n",
       "    </tr>\n",
       "    <tr>\n",
       "      <th>1</th>\n",
       "      <td>Sara</td>\n",
       "      <td>18</td>\n",
       "      <td>B</td>\n",
       "    </tr>\n",
       "    <tr>\n",
       "      <th>2</th>\n",
       "      <td>John</td>\n",
       "      <td>17</td>\n",
       "      <td>A</td>\n",
       "    </tr>\n",
       "    <tr>\n",
       "      <th>3</th>\n",
       "      <td>Areeba</td>\n",
       "      <td>19</td>\n",
       "      <td>C</td>\n",
       "    </tr>\n",
       "  </tbody>\n",
       "</table>\n",
       "</div>"
      ],
      "text/plain": [
       "     Name  Age Grade\n",
       "0     Ali   17     A\n",
       "1    Sara   18     B\n",
       "2    John   17     A\n",
       "3  Areeba   19     C"
      ]
     },
     "execution_count": 19,
     "metadata": {},
     "output_type": "execute_result"
    }
   ],
   "source": [
    "df = pd.read_csv(\"students.csv\")\n",
    "print(df)\n",
    "df.head()"
   ]
  },
  {
   "cell_type": "code",
   "execution_count": 14,
   "id": "6fd00ccd-790f-4f5b-a167-1c44b3435bee",
   "metadata": {},
   "outputs": [
    {
     "name": "stdout",
     "output_type": "stream",
     "text": [
      "   Age Grade\n",
      "0   17     A\n",
      "1   18     B\n",
      "2   17     A\n",
      "3   19     C\n",
      "Sara\n",
      "Areeba\n"
     ]
    }
   ],
   "source": [
    "x = df[['Age', 'Grade']]\n",
    "print(x)\n",
    "y = df.iloc[1,0] # iloc is used to access unique values i.e df.iloc[1,2]. here 1 means row of 1 index. and 2 means column of 2 index = B\n",
    "print(y)\n",
    "z = df.loc[3, 'Name'] # loc is also used to get unique values but it uses labels as compared to iloc which uses index\n",
    "print(z)"
   ]
  },
  {
   "cell_type": "code",
   "execution_count": 16,
   "id": "105617ab-940e-4ccb-a3cb-f590456f9406",
   "metadata": {},
   "outputs": [
    {
     "name": "stdout",
     "output_type": "stream",
     "text": [
      "     Name  Age Grade\n",
      "a     Ali   17     A\n",
      "b    Sara   18     B\n",
      "c    John   17     A\n",
      "d  Areeba   19     C\n"
     ]
    }
   ],
   "source": [
    "df_new = df\n",
    "df_new.index=['a', 'b', 'c', 'd']\n",
    "print(df_new)"
   ]
  },
  {
   "cell_type": "code",
   "execution_count": 21,
   "id": "24097f0f-341e-470f-9b21-958f5690b436",
   "metadata": {},
   "outputs": [
    {
     "name": "stdout",
     "output_type": "stream",
     "text": [
      "17\n",
      "  Name  Age\n",
      "0  Ali   17\n",
      "   Name  Age\n",
      "a   Ali   17\n",
      "b  Sara   18\n",
      "c  John   17\n"
     ]
    }
   ],
   "source": [
    "a = df_new.loc['c', 'Age']\n",
    "print(a)\n",
    "b = df.iloc[0:1, 0:2] # slicing\n",
    "print(b)\n",
    "c = df_new.loc['a':'c', 'Name':'Age'] # slicing\n",
    "print(c)"
   ]
  },
  {
   "cell_type": "code",
   "execution_count": 29,
   "id": "e0b13e14-8fdf-4be1-94d3-e3915addd9f6",
   "metadata": {},
   "outputs": [
    {
     "name": "stdout",
     "output_type": "stream",
     "text": [
      "['Ali' 'Sara' 'John' 'Areeba']\n",
      "     Name  Age Grade\n",
      "1    Sara   18     B\n",
      "3  Areeba   19     C\n"
     ]
    }
   ],
   "source": [
    "unique_values = df_new['Name'].unique() # .unique() is used to find unique values\n",
    "print(unique_values)\n",
    "\n",
    "new_df = df[df['Age']>17]\n",
    "print(new_df)\n",
    "new_df.to_csv('new_df.csv') # to save as a new csv"
   ]
  },
  {
   "cell_type": "code",
   "execution_count": null,
   "id": "3f03cdfa-34bb-463c-8dd9-fd2f3fe5efdd",
   "metadata": {},
   "outputs": [],
   "source": []
  }
 ],
 "metadata": {
  "kernelspec": {
   "display_name": "Python 3 (ipykernel)",
   "language": "python",
   "name": "python3"
  },
  "language_info": {
   "codemirror_mode": {
    "name": "ipython",
    "version": 3
   },
   "file_extension": ".py",
   "mimetype": "text/x-python",
   "name": "python",
   "nbconvert_exporter": "python",
   "pygments_lexer": "ipython3",
   "version": "3.12.6"
  }
 },
 "nbformat": 4,
 "nbformat_minor": 5
}
