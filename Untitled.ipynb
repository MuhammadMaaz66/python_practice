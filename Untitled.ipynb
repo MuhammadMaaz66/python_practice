{
 "cells": [
  {
   "cell_type": "markdown",
   "id": "91ef433e-63f0-41b7-a98c-d535758a378b",
   "metadata": {},
   "source": [
    "### Student Record Managment"
   ]
  },
  {
   "cell_type": "code",
   "execution_count": 31,
   "id": "578d0d52-994e-4143-960e-9428ee7fbbb2",
   "metadata": {},
   "outputs": [
    {
     "name": "stdout",
     "output_type": "stream",
     "text": [
      "\n",
      "\n",
      "\t \t \t Student Management\n",
      "---------------------------------------------------------------------------\n",
      "Choose your options: \n",
      " a. Login \n",
      " b. Signup\n"
     ]
    },
    {
     "name": "stdin",
     "output_type": "stream",
     "text": [
      "Enter your choice (A: login, B: signup, Q: quit):  a\n"
     ]
    },
    {
     "name": "stdout",
     "output_type": "stream",
     "text": [
      "\n",
      "\n",
      "\t \t \t Login\n",
      "---------------------------------------------------------------------------\n"
     ]
    },
    {
     "name": "stdin",
     "output_type": "stream",
     "text": [
      "Enter your Email (or 'q' to go back):  q\n"
     ]
    },
    {
     "name": "stdout",
     "output_type": "stream",
     "text": [
      "🔙 Returning to Main Menu...\n",
      "\n",
      "\n",
      "\t \t \t Student Management\n",
      "---------------------------------------------------------------------------\n",
      "Choose your options: \n",
      " a. Login \n",
      " b. Signup\n"
     ]
    },
    {
     "name": "stdin",
     "output_type": "stream",
     "text": [
      "Enter your choice (A: login, B: signup, Q: quit):  a\n"
     ]
    },
    {
     "name": "stdout",
     "output_type": "stream",
     "text": [
      "\n",
      "\n",
      "\t \t \t Login\n",
      "---------------------------------------------------------------------------\n"
     ]
    },
    {
     "name": "stdin",
     "output_type": "stream",
     "text": [
      "Enter your Email (or 'q' to go back):  maaz@gmailcom\n",
      "Enter your Password (or 'q' to go back):  11234\n"
     ]
    },
    {
     "name": "stdout",
     "output_type": "stream",
     "text": [
      "❌ Incorrect Email or Password\n"
     ]
    },
    {
     "name": "stdin",
     "output_type": "stream",
     "text": [
      "Enter your Email (or 'q' to go back):  maaz@gmail.com\n",
      "Enter your Password (or 'q' to go back):  12345\n"
     ]
    },
    {
     "name": "stdout",
     "output_type": "stream",
     "text": [
      "✅ Login Successful\n",
      "\n",
      "\n",
      "\t \t \t Welcome  Maaz Naeem\n",
      "---------------------------------------------------------------------------\n"
     ]
    }
   ],
   "source": [
    "import csv\n",
    "import os\n",
    "filePath = 'StudentsRecords.csv'\n",
    "\n",
    "\n",
    "def Welcome():\n",
    "    print('\\n')\n",
    "    print(\"\\t \\t \\t Student Management\")\n",
    "    print(\"---------------------------------------------------------------------------\")\n",
    "    print(\"Choose your options: \\n a. Login \\n b. Signup\")\n",
    "    while True:\n",
    "        choice = input(\"Enter your choice (A: login, B: signup, Q: quit): \")\n",
    "        match choice.lower():\n",
    "            case 'a' :\n",
    "                Login()\n",
    "                break\n",
    "            case 'b' :\n",
    "                Signup()\n",
    "                break\n",
    "            case 'q':\n",
    "                print(\"Goodbye!\")\n",
    "                break;\n",
    "            case _:\n",
    "                print(\"Incorrect Choice, Please Try again!\")\n",
    "def Login():\n",
    "    print('\\n')\n",
    "    print(\"\\t \\t \\t Login\")\n",
    "    print(\"---------------------------------------------------------------------------\")\n",
    "    global studentName\n",
    "    while True:\n",
    "        email = input(\"Enter your Email (or 'q' to go back): \")\n",
    "        if email.lower() == 'q':\n",
    "            print(\"🔙 Returning to Main Menu...\")\n",
    "            Welcome()\n",
    "            break\n",
    "        password = input(\"Enter your Password (or 'q' to go back): \")\n",
    "        if password.lower() == 'q':\n",
    "            print(\"🔙 Returning to Main Menu...\")\n",
    "            Welcome()\n",
    "            break\n",
    "        found = False\n",
    "        \n",
    "        with open(filePath, 'r') as file:\n",
    "            reader = csv.DictReader(file)   \n",
    "            for rows in reader:\n",
    "                if(rows['Email'] == email and rows['Password'] == password):\n",
    "                    found = True\n",
    "                    studentName = rows['Name']\n",
    "                    break\n",
    "        if found:\n",
    "            print(\"✅ Login Successful\")\n",
    "            Home()\n",
    "            break  \n",
    "        else:\n",
    "            print(\"❌ Incorrect Email or Password\")\n",
    "    \n",
    "\n",
    "def Signup():\n",
    "    print('\\n')\n",
    "    print(\"\\t \\t \\t Signup\")\n",
    "    print(\"---------------------------------------------------------------------------\")\n",
    "\n",
    "    email = input(\"Enter your Email: \")\n",
    "    name = input(\"Enter your Name: \")\n",
    "    password = input(\"Enter your Password: \")\n",
    "    field_names = ['Name', 'Email', 'Password']\n",
    "    \n",
    "    if os.path.exists(filePath):\n",
    "        with open(filePath, 'a', newline='') as file:\n",
    "            writer = csv.DictWriter(file, fieldnames=field_names)\n",
    "            writer.writerow({\n",
    "                'Name': name,\n",
    "                'Email': email,\n",
    "                'Password': password\n",
    "            })\n",
    "    else:\n",
    "        with open(filePath, 'w', newline='') as file:\n",
    "            writer = csv.DictWriter(file, fieldnames=field_names)\n",
    "            writer.writeheader()\n",
    "            writer.writerow({\n",
    "                'Name': name,\n",
    "                'Email': email,\n",
    "                'Password': password\n",
    "            })\n",
    "    print(\"✅ Account Created Successfully\")\n",
    "    choose = input(\"Move to login? Y/N: \")\n",
    "    match choose.lower():\n",
    "        case 'y':\n",
    "            Login()\n",
    "        case 'n':\n",
    "            Welcome()\n",
    "        case _:\n",
    "            print(\"❌ Invalid Choice! moving to Main menu...\")\n",
    "            Welcome()\n",
    "\n",
    "def Home():\n",
    "    print('\\n')\n",
    "    print(\"\\t \\t \\t Welcome \", studentName)\n",
    "    print(\"---------------------------------------------------------------------------\")\n",
    "Welcome()\n",
    "# choice = input(\"Enter your choice: \")\n",
    "\n",
    "# if(choice == 'a' or choice == 'A'):\n",
    "#     print(\"login screen\")\n",
    "# elif (choice == 'b' or choice == 'B'):\n",
    "#     print(\"signup\")\n",
    "# else: \n",
    "#     print(\"Invalid Choice\")"
   ]
  },
  {
   "cell_type": "code",
   "execution_count": null,
   "id": "93516bab-4d1f-4dc3-ad13-0436b7890f20",
   "metadata": {},
   "outputs": [],
   "source": []
  }
 ],
 "metadata": {
  "kernelspec": {
   "display_name": "Python 3 (ipykernel)",
   "language": "python",
   "name": "python3"
  },
  "language_info": {
   "codemirror_mode": {
    "name": "ipython",
    "version": 3
   },
   "file_extension": ".py",
   "mimetype": "text/x-python",
   "name": "python",
   "nbconvert_exporter": "python",
   "pygments_lexer": "ipython3",
   "version": "3.12.6"
  }
 },
 "nbformat": 4,
 "nbformat_minor": 5
}
