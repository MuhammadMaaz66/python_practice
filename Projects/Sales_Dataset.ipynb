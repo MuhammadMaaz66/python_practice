{
 "cells": [
  {
   "cell_type": "markdown",
   "id": "d70c7f87-2034-4608-a0da-870ff7ae4f9b",
   "metadata": {},
   "source": [
    "### Retail Orders"
   ]
  },
  {
   "cell_type": "code",
   "execution_count": 47,
   "id": "48460bcb-e3a0-4c84-9aa7-4d205fad5ea3",
   "metadata": {},
   "outputs": [],
   "source": [
    "import pandas as pd\n",
    "import matplotlib.pyplot as plt\n",
    "df = pd.read_csv(\"sales_data.csv\")"
   ]
  },
  {
   "cell_type": "code",
   "execution_count": 2,
   "id": "10ac8f53-02bb-480d-9ac9-5672613e43b7",
   "metadata": {},
   "outputs": [
    {
     "name": "stdout",
     "output_type": "stream",
     "text": [
      "<class 'pandas.core.frame.DataFrame'>\n",
      "RangeIndex: 9 entries, 0 to 8\n",
      "Data columns (total 9 columns):\n",
      " #   Column    Non-Null Count  Dtype  \n",
      "---  ------    --------------  -----  \n",
      " 0   OrderID   9 non-null      int64  \n",
      " 1   Date      9 non-null      object \n",
      " 2   Customer  9 non-null      object \n",
      " 3   Region    9 non-null      object \n",
      " 4   Product   9 non-null      object \n",
      " 5   Quantity  8 non-null      float64\n",
      " 6   Price     9 non-null      int64  \n",
      " 7   Discount  6 non-null      float64\n",
      " 8   Profit    8 non-null      float64\n",
      "dtypes: float64(3), int64(2), object(4)\n",
      "memory usage: 780.0+ bytes\n"
     ]
    }
   ],
   "source": [
    "df.info()"
   ]
  },
  {
   "cell_type": "code",
   "execution_count": 3,
   "id": "a50a1b64-088b-487e-907d-3497f47e4841",
   "metadata": {},
   "outputs": [
    {
     "data": {
      "text/html": [
       "<div>\n",
       "<style scoped>\n",
       "    .dataframe tbody tr th:only-of-type {\n",
       "        vertical-align: middle;\n",
       "    }\n",
       "\n",
       "    .dataframe tbody tr th {\n",
       "        vertical-align: top;\n",
       "    }\n",
       "\n",
       "    .dataframe thead th {\n",
       "        text-align: right;\n",
       "    }\n",
       "</style>\n",
       "<table border=\"1\" class=\"dataframe\">\n",
       "  <thead>\n",
       "    <tr style=\"text-align: right;\">\n",
       "      <th></th>\n",
       "      <th>OrderID</th>\n",
       "      <th>Date</th>\n",
       "      <th>Customer</th>\n",
       "      <th>Region</th>\n",
       "      <th>Product</th>\n",
       "      <th>Quantity</th>\n",
       "      <th>Price</th>\n",
       "      <th>Discount</th>\n",
       "      <th>Profit</th>\n",
       "    </tr>\n",
       "  </thead>\n",
       "  <tbody>\n",
       "    <tr>\n",
       "      <th>0</th>\n",
       "      <td>1001</td>\n",
       "      <td>2023-01-02</td>\n",
       "      <td>Ali</td>\n",
       "      <td>Lahore</td>\n",
       "      <td>Laptop</td>\n",
       "      <td>2.0</td>\n",
       "      <td>80000</td>\n",
       "      <td>0.05</td>\n",
       "      <td>12000.0</td>\n",
       "    </tr>\n",
       "    <tr>\n",
       "      <th>1</th>\n",
       "      <td>1002</td>\n",
       "      <td>2023-01-03</td>\n",
       "      <td>Sara</td>\n",
       "      <td>Karachi</td>\n",
       "      <td>Mobile</td>\n",
       "      <td>1.0</td>\n",
       "      <td>50000</td>\n",
       "      <td>NaN</td>\n",
       "      <td>7000.0</td>\n",
       "    </tr>\n",
       "    <tr>\n",
       "      <th>2</th>\n",
       "      <td>1003</td>\n",
       "      <td>2023-01-04</td>\n",
       "      <td>John</td>\n",
       "      <td>Islamabad</td>\n",
       "      <td>Tablet</td>\n",
       "      <td>3.0</td>\n",
       "      <td>30000</td>\n",
       "      <td>0.10</td>\n",
       "      <td>4500.0</td>\n",
       "    </tr>\n",
       "    <tr>\n",
       "      <th>3</th>\n",
       "      <td>1004</td>\n",
       "      <td>2023-01-05</td>\n",
       "      <td>Ayesha</td>\n",
       "      <td>Lahore</td>\n",
       "      <td>Laptop</td>\n",
       "      <td>1.0</td>\n",
       "      <td>80000</td>\n",
       "      <td>NaN</td>\n",
       "      <td>NaN</td>\n",
       "    </tr>\n",
       "    <tr>\n",
       "      <th>4</th>\n",
       "      <td>1005</td>\n",
       "      <td>2023-01-06</td>\n",
       "      <td>Zain</td>\n",
       "      <td>Multan</td>\n",
       "      <td>Mobile</td>\n",
       "      <td>NaN</td>\n",
       "      <td>50000</td>\n",
       "      <td>0.15</td>\n",
       "      <td>6000.0</td>\n",
       "    </tr>\n",
       "  </tbody>\n",
       "</table>\n",
       "</div>"
      ],
      "text/plain": [
       "   OrderID        Date Customer     Region Product  Quantity  Price  Discount  \\\n",
       "0     1001  2023-01-02      Ali     Lahore  Laptop       2.0  80000      0.05   \n",
       "1     1002  2023-01-03     Sara    Karachi  Mobile       1.0  50000       NaN   \n",
       "2     1003  2023-01-04     John  Islamabad  Tablet       3.0  30000      0.10   \n",
       "3     1004  2023-01-05   Ayesha     Lahore  Laptop       1.0  80000       NaN   \n",
       "4     1005  2023-01-06     Zain     Multan  Mobile       NaN  50000      0.15   \n",
       "\n",
       "    Profit  \n",
       "0  12000.0  \n",
       "1   7000.0  \n",
       "2   4500.0  \n",
       "3      NaN  \n",
       "4   6000.0  "
      ]
     },
     "execution_count": 3,
     "metadata": {},
     "output_type": "execute_result"
    }
   ],
   "source": [
    "df.head()"
   ]
  },
  {
   "cell_type": "code",
   "execution_count": 6,
   "id": "48333f9d-9ef1-4e07-a8ea-855d4e8567fd",
   "metadata": {},
   "outputs": [
    {
     "name": "stdout",
     "output_type": "stream",
     "text": [
      "total null values are:\n",
      " OrderID     0\n",
      "Date        0\n",
      "Customer    0\n",
      "Region      0\n",
      "Product     0\n",
      "Quantity    1\n",
      "Price       0\n",
      "Discount    3\n",
      "Profit      1\n",
      "dtype: int64\n"
     ]
    }
   ],
   "source": [
    "total_null = df.isnull().sum()\n",
    "print(\"total null values are:\\n\", total_null)"
   ]
  },
  {
   "cell_type": "code",
   "execution_count": 16,
   "id": "9f03f6fb-3742-4146-aa1a-20a512843153",
   "metadata": {},
   "outputs": [
    {
     "data": {
      "text/plain": [
       "0    0.05\n",
       "1    0.00\n",
       "2    0.10\n",
       "3    0.00\n",
       "4    0.15\n",
       "5    0.05\n",
       "6    0.05\n",
       "7    0.00\n",
       "8    0.20\n",
       "Name: Discount, dtype: float64"
      ]
     },
     "execution_count": 16,
     "metadata": {},
     "output_type": "execute_result"
    }
   ],
   "source": [
    "df[\"Discount\"].fillna(0)"
   ]
  },
  {
   "cell_type": "code",
   "execution_count": 20,
   "id": "c8687f5b-d762-4369-af9e-60c19c0ce323",
   "metadata": {},
   "outputs": [
    {
     "data": {
      "text/plain": [
       "0    12000.0\n",
       "1     7000.0\n",
       "2     4500.0\n",
       "3     6812.5\n",
       "4     6000.0\n",
       "5     4000.0\n",
       "6    10000.0\n",
       "7     3500.0\n",
       "8     7500.0\n",
       "Name: Profit, dtype: float64"
      ]
     },
     "execution_count": 20,
     "metadata": {},
     "output_type": "execute_result"
    }
   ],
   "source": [
    "profit_mean = df[\"Profit\"].mean()\n",
    "df[\"Profit\"].fillna(profit_mean)"
   ]
  },
  {
   "cell_type": "code",
   "execution_count": 21,
   "id": "bf542c4e-bcce-40c8-940b-8d918929de42",
   "metadata": {},
   "outputs": [
    {
     "data": {
      "text/plain": [
       "0    2.0\n",
       "1    1.0\n",
       "2    3.0\n",
       "3    1.0\n",
       "5    2.0\n",
       "6    1.0\n",
       "7    1.0\n",
       "8    2.0\n",
       "Name: Quantity, dtype: float64"
      ]
     },
     "execution_count": 21,
     "metadata": {},
     "output_type": "execute_result"
    }
   ],
   "source": [
    "df[\"Quantity\"].dropna()"
   ]
  },
  {
   "cell_type": "code",
   "execution_count": 23,
   "id": "a822988b-b7a4-416c-ba87-e087dea4273f",
   "metadata": {},
   "outputs": [
    {
     "name": "stdout",
     "output_type": "stream",
     "text": [
      "   OrderID        Date Customer     Region Product  Quantity  Price  Discount  \\\n",
      "0     1001  2023-01-02      Ali     Lahore  Laptop       2.0  80000      0.05   \n",
      "6     1007  2023-01-08     Sara    Karachi  Laptop       1.0  80000      0.05   \n",
      "8     1009  2023-01-10   Ayesha     Lahore  Mobile       2.0  50000      0.20   \n",
      "1     1002  2023-01-03     Sara    Karachi  Mobile       1.0  50000       NaN   \n",
      "4     1005  2023-01-06     Zain     Multan  Mobile       NaN  50000      0.15   \n",
      "2     1003  2023-01-04     John  Islamabad  Tablet       3.0  30000      0.10   \n",
      "5     1006  2023-01-07      Ali     Lahore  Tablet       2.0  30000      0.05   \n",
      "7     1008  2023-01-09     Zain     Multan  Tablet       1.0  30000       NaN   \n",
      "3     1004  2023-01-05   Ayesha     Lahore  Laptop       1.0  80000       NaN   \n",
      "\n",
      "    Profit  \n",
      "0  12000.0  \n",
      "6  10000.0  \n",
      "8   7500.0  \n",
      "1   7000.0  \n",
      "4   6000.0  \n",
      "2   4500.0  \n",
      "5   4000.0  \n",
      "7   3500.0  \n",
      "3      NaN  \n"
     ]
    }
   ],
   "source": [
    "sortedValues = df.sort_values(by=\"Profit\", ascending=False)\n",
    "print(sortedValues)"
   ]
  },
  {
   "cell_type": "code",
   "execution_count": 24,
   "id": "1ae06064-9801-438d-b09b-3030d27455ce",
   "metadata": {},
   "outputs": [
    {
     "data": {
      "text/html": [
       "<div>\n",
       "<style scoped>\n",
       "    .dataframe tbody tr th:only-of-type {\n",
       "        vertical-align: middle;\n",
       "    }\n",
       "\n",
       "    .dataframe tbody tr th {\n",
       "        vertical-align: top;\n",
       "    }\n",
       "\n",
       "    .dataframe thead th {\n",
       "        text-align: right;\n",
       "    }\n",
       "</style>\n",
       "<table border=\"1\" class=\"dataframe\">\n",
       "  <thead>\n",
       "    <tr style=\"text-align: right;\">\n",
       "      <th></th>\n",
       "      <th>OrderID</th>\n",
       "      <th>Date</th>\n",
       "      <th>Customer</th>\n",
       "      <th>Region</th>\n",
       "      <th>Product</th>\n",
       "      <th>Quantity</th>\n",
       "      <th>Price</th>\n",
       "      <th>Discount</th>\n",
       "      <th>Profit</th>\n",
       "      <th>Ranking</th>\n",
       "    </tr>\n",
       "  </thead>\n",
       "  <tbody>\n",
       "    <tr>\n",
       "      <th>0</th>\n",
       "      <td>1001</td>\n",
       "      <td>2023-01-02</td>\n",
       "      <td>Ali</td>\n",
       "      <td>Lahore</td>\n",
       "      <td>Laptop</td>\n",
       "      <td>2.0</td>\n",
       "      <td>80000</td>\n",
       "      <td>0.05</td>\n",
       "      <td>12000.0</td>\n",
       "      <td>1.0</td>\n",
       "    </tr>\n",
       "    <tr>\n",
       "      <th>1</th>\n",
       "      <td>1002</td>\n",
       "      <td>2023-01-03</td>\n",
       "      <td>Sara</td>\n",
       "      <td>Karachi</td>\n",
       "      <td>Mobile</td>\n",
       "      <td>1.0</td>\n",
       "      <td>50000</td>\n",
       "      <td>NaN</td>\n",
       "      <td>7000.0</td>\n",
       "      <td>4.0</td>\n",
       "    </tr>\n",
       "    <tr>\n",
       "      <th>2</th>\n",
       "      <td>1003</td>\n",
       "      <td>2023-01-04</td>\n",
       "      <td>John</td>\n",
       "      <td>Islamabad</td>\n",
       "      <td>Tablet</td>\n",
       "      <td>3.0</td>\n",
       "      <td>30000</td>\n",
       "      <td>0.10</td>\n",
       "      <td>4500.0</td>\n",
       "      <td>6.0</td>\n",
       "    </tr>\n",
       "    <tr>\n",
       "      <th>3</th>\n",
       "      <td>1004</td>\n",
       "      <td>2023-01-05</td>\n",
       "      <td>Ayesha</td>\n",
       "      <td>Lahore</td>\n",
       "      <td>Laptop</td>\n",
       "      <td>1.0</td>\n",
       "      <td>80000</td>\n",
       "      <td>NaN</td>\n",
       "      <td>NaN</td>\n",
       "      <td>NaN</td>\n",
       "    </tr>\n",
       "    <tr>\n",
       "      <th>4</th>\n",
       "      <td>1005</td>\n",
       "      <td>2023-01-06</td>\n",
       "      <td>Zain</td>\n",
       "      <td>Multan</td>\n",
       "      <td>Mobile</td>\n",
       "      <td>NaN</td>\n",
       "      <td>50000</td>\n",
       "      <td>0.15</td>\n",
       "      <td>6000.0</td>\n",
       "      <td>5.0</td>\n",
       "    </tr>\n",
       "    <tr>\n",
       "      <th>5</th>\n",
       "      <td>1006</td>\n",
       "      <td>2023-01-07</td>\n",
       "      <td>Ali</td>\n",
       "      <td>Lahore</td>\n",
       "      <td>Tablet</td>\n",
       "      <td>2.0</td>\n",
       "      <td>30000</td>\n",
       "      <td>0.05</td>\n",
       "      <td>4000.0</td>\n",
       "      <td>7.0</td>\n",
       "    </tr>\n",
       "    <tr>\n",
       "      <th>6</th>\n",
       "      <td>1007</td>\n",
       "      <td>2023-01-08</td>\n",
       "      <td>Sara</td>\n",
       "      <td>Karachi</td>\n",
       "      <td>Laptop</td>\n",
       "      <td>1.0</td>\n",
       "      <td>80000</td>\n",
       "      <td>0.05</td>\n",
       "      <td>10000.0</td>\n",
       "      <td>2.0</td>\n",
       "    </tr>\n",
       "    <tr>\n",
       "      <th>7</th>\n",
       "      <td>1008</td>\n",
       "      <td>2023-01-09</td>\n",
       "      <td>Zain</td>\n",
       "      <td>Multan</td>\n",
       "      <td>Tablet</td>\n",
       "      <td>1.0</td>\n",
       "      <td>30000</td>\n",
       "      <td>NaN</td>\n",
       "      <td>3500.0</td>\n",
       "      <td>8.0</td>\n",
       "    </tr>\n",
       "    <tr>\n",
       "      <th>8</th>\n",
       "      <td>1009</td>\n",
       "      <td>2023-01-10</td>\n",
       "      <td>Ayesha</td>\n",
       "      <td>Lahore</td>\n",
       "      <td>Mobile</td>\n",
       "      <td>2.0</td>\n",
       "      <td>50000</td>\n",
       "      <td>0.20</td>\n",
       "      <td>7500.0</td>\n",
       "      <td>3.0</td>\n",
       "    </tr>\n",
       "  </tbody>\n",
       "</table>\n",
       "</div>"
      ],
      "text/plain": [
       "   OrderID        Date Customer     Region Product  Quantity  Price  Discount  \\\n",
       "0     1001  2023-01-02      Ali     Lahore  Laptop       2.0  80000      0.05   \n",
       "1     1002  2023-01-03     Sara    Karachi  Mobile       1.0  50000       NaN   \n",
       "2     1003  2023-01-04     John  Islamabad  Tablet       3.0  30000      0.10   \n",
       "3     1004  2023-01-05   Ayesha     Lahore  Laptop       1.0  80000       NaN   \n",
       "4     1005  2023-01-06     Zain     Multan  Mobile       NaN  50000      0.15   \n",
       "5     1006  2023-01-07      Ali     Lahore  Tablet       2.0  30000      0.05   \n",
       "6     1007  2023-01-08     Sara    Karachi  Laptop       1.0  80000      0.05   \n",
       "7     1008  2023-01-09     Zain     Multan  Tablet       1.0  30000       NaN   \n",
       "8     1009  2023-01-10   Ayesha     Lahore  Mobile       2.0  50000      0.20   \n",
       "\n",
       "    Profit  Ranking  \n",
       "0  12000.0      1.0  \n",
       "1   7000.0      4.0  \n",
       "2   4500.0      6.0  \n",
       "3      NaN      NaN  \n",
       "4   6000.0      5.0  \n",
       "5   4000.0      7.0  \n",
       "6  10000.0      2.0  \n",
       "7   3500.0      8.0  \n",
       "8   7500.0      3.0  "
      ]
     },
     "execution_count": 24,
     "metadata": {},
     "output_type": "execute_result"
    }
   ],
   "source": [
    "df[\"Ranking\"] = df[\"Profit\"].rank(ascending=False)\n",
    "df"
   ]
  },
  {
   "cell_type": "code",
   "execution_count": 28,
   "id": "c0e3a404-1b2b-4eb2-aba4-fd014f4155f6",
   "metadata": {},
   "outputs": [
    {
     "name": "stdout",
     "output_type": "stream",
     "text": [
      "Region\n",
      "Islamabad     4500.0\n",
      "Karachi      17000.0\n",
      "Lahore       23500.0\n",
      "Multan        9500.0\n",
      "Name: Profit, dtype: float64\n"
     ]
    }
   ],
   "source": [
    "total_Profit = df.groupby(\"Region\")[\"Profit\"].sum()\n",
    "print(total_Profit)"
   ]
  },
  {
   "cell_type": "code",
   "execution_count": 29,
   "id": "641d7c5d-844d-469a-a1cc-669d47bde31b",
   "metadata": {},
   "outputs": [
    {
     "name": "stdout",
     "output_type": "stream",
     "text": [
      "Product\n",
      "Laptop    0.050\n",
      "Mobile    0.175\n",
      "Tablet    0.075\n",
      "Name: Discount, dtype: float64\n"
     ]
    }
   ],
   "source": [
    "averageDiscount = df.groupby(\"Product\")[\"Discount\"].mean()\n",
    "print(averageDiscount)"
   ]
  },
  {
   "cell_type": "code",
   "execution_count": 30,
   "id": "c5fe5c8d-c113-4ff1-8973-077675338f2a",
   "metadata": {},
   "outputs": [
    {
     "name": "stdout",
     "output_type": "stream",
     "text": [
      "Customer\n",
      "Ali       4.0\n",
      "Ayesha    3.0\n",
      "John      3.0\n",
      "Sara      2.0\n",
      "Zain      1.0\n",
      "Name: Quantity, dtype: float64\n"
     ]
    }
   ],
   "source": [
    "TotalQuantityPerCustomer = df.groupby(\"Customer\")[\"Quantity\"].sum()\n",
    "print(TotalQuantityPerCustomer)"
   ]
  },
  {
   "cell_type": "code",
   "execution_count": 31,
   "id": "4c7106c7-255b-44e8-911a-21b67e5d08fd",
   "metadata": {},
   "outputs": [
    {
     "name": "stdout",
     "output_type": "stream",
     "text": [
      "Product     Laptop  Mobile  Tablet\n",
      "Region                            \n",
      "Islamabad      0.0     0.0  4500.0\n",
      "Karachi    10000.0  7000.0     0.0\n",
      "Lahore     12000.0  7500.0  4000.0\n",
      "Multan         0.0  6000.0  3500.0\n"
     ]
    }
   ],
   "source": [
    "pivot = df.pivot_table(values=\"Profit\", index=\"Region\", columns=\"Product\", aggfunc=\"sum\", fill_value=0)\n",
    "print(pivot)"
   ]
  },
  {
   "cell_type": "code",
   "execution_count": 32,
   "id": "d001c371-a22a-4635-93b2-8075b53a6ab7",
   "metadata": {},
   "outputs": [
    {
     "name": "stdout",
     "output_type": "stream",
     "text": [
      "Product   Laptop  Mobile  Tablet\n",
      "Customer                        \n",
      "Ali            1       0       1\n",
      "Ayesha         1       1       0\n",
      "John           0       0       1\n",
      "Sara           1       1       0\n",
      "Zain           0       1       1\n"
     ]
    }
   ],
   "source": [
    "product_count = pd.crosstab(df[\"Customer\"], df[\"Product\"])\n",
    "print(product_count)"
   ]
  },
  {
   "cell_type": "code",
   "execution_count": 34,
   "id": "cc8b25e7-5ce4-40bc-b15a-f46c69ed4380",
   "metadata": {},
   "outputs": [
    {
     "name": "stdout",
     "output_type": "stream",
     "text": [
      "0       ali\n",
      "1      sara\n",
      "2      john\n",
      "3    ayesha\n",
      "4      zain\n",
      "5       ali\n",
      "6      sara\n",
      "7      zain\n",
      "8    ayesha\n",
      "Name: Customer, dtype: object\n"
     ]
    }
   ],
   "source": [
    "names = df[\"Customer\"].str.lower()\n",
    "print(names)"
   ]
  },
  {
   "cell_type": "code",
   "execution_count": 35,
   "id": "c42f1a31-c53f-415c-84da-f26cb246e1b5",
   "metadata": {},
   "outputs": [
    {
     "name": "stdout",
     "output_type": "stream",
     "text": [
      "0    Lah\n",
      "1    Kar\n",
      "2    Isl\n",
      "3    Lah\n",
      "4    Mul\n",
      "5    Lah\n",
      "6    Kar\n",
      "7    Mul\n",
      "8    Lah\n",
      "Name: Region, dtype: object\n"
     ]
    }
   ],
   "source": [
    "region_names = df[\"Region\"].str.slice(start=0, stop=3)\n",
    "print(region_names)"
   ]
  },
  {
   "cell_type": "code",
   "execution_count": 41,
   "id": "1b18112e-ca3b-435e-b1f0-6768d81cfcf3",
   "metadata": {},
   "outputs": [
    {
     "name": "stdout",
     "output_type": "stream",
     "text": [
      "   OrderID        Date Customer  Region Product  Quantity  Price  Discount  \\\n",
      "0     1001  2023-01-02      Ali  Lahore  Laptop       2.0  80000      0.05   \n",
      "3     1004  2023-01-05   Ayesha  Lahore  Laptop       1.0  80000       NaN   \n",
      "5     1006  2023-01-07      Ali  Lahore  Tablet       2.0  30000      0.05   \n",
      "8     1009  2023-01-10   Ayesha  Lahore  Mobile       2.0  50000      0.20   \n",
      "\n",
      "    Profit  Ranking  \n",
      "0  12000.0      1.0  \n",
      "3      NaN      NaN  \n",
      "5   4000.0      7.0  \n",
      "8   7500.0      3.0  \n"
     ]
    }
   ],
   "source": [
    "customer_names = df[df[\"Customer\"].str.startswith(\"A\")]\n",
    "print(customer_names)"
   ]
  },
  {
   "cell_type": "code",
   "execution_count": 44,
   "id": "37648eec-c6f2-488d-8778-d1767827700d",
   "metadata": {},
   "outputs": [
    {
     "data": {
      "text/html": [
       "<div>\n",
       "<style scoped>\n",
       "    .dataframe tbody tr th:only-of-type {\n",
       "        vertical-align: middle;\n",
       "    }\n",
       "\n",
       "    .dataframe tbody tr th {\n",
       "        vertical-align: top;\n",
       "    }\n",
       "\n",
       "    .dataframe thead th {\n",
       "        text-align: right;\n",
       "    }\n",
       "</style>\n",
       "<table border=\"1\" class=\"dataframe\">\n",
       "  <thead>\n",
       "    <tr style=\"text-align: right;\">\n",
       "      <th></th>\n",
       "      <th>OrderID</th>\n",
       "      <th>Date</th>\n",
       "      <th>Customer</th>\n",
       "      <th>Region</th>\n",
       "      <th>Product</th>\n",
       "      <th>Quantity</th>\n",
       "      <th>Price</th>\n",
       "      <th>Discount</th>\n",
       "      <th>Profit</th>\n",
       "      <th>Ranking</th>\n",
       "    </tr>\n",
       "  </thead>\n",
       "  <tbody>\n",
       "    <tr>\n",
       "      <th>0</th>\n",
       "      <td>1001</td>\n",
       "      <td>2023-01-02</td>\n",
       "      <td>Ali</td>\n",
       "      <td>Lahore</td>\n",
       "      <td>Laptop</td>\n",
       "      <td>2.0</td>\n",
       "      <td>80000</td>\n",
       "      <td>0.05</td>\n",
       "      <td>12000.0</td>\n",
       "      <td>1.0</td>\n",
       "    </tr>\n",
       "    <tr>\n",
       "      <th>1</th>\n",
       "      <td>1002</td>\n",
       "      <td>2023-01-03</td>\n",
       "      <td>Sara</td>\n",
       "      <td>Karachi</td>\n",
       "      <td>Mobile</td>\n",
       "      <td>1.0</td>\n",
       "      <td>50000</td>\n",
       "      <td>NaN</td>\n",
       "      <td>7000.0</td>\n",
       "      <td>4.0</td>\n",
       "    </tr>\n",
       "    <tr>\n",
       "      <th>2</th>\n",
       "      <td>1003</td>\n",
       "      <td>2023-01-04</td>\n",
       "      <td>John</td>\n",
       "      <td>Islamabad</td>\n",
       "      <td>Tablet</td>\n",
       "      <td>3.0</td>\n",
       "      <td>30000</td>\n",
       "      <td>0.10</td>\n",
       "      <td>4500.0</td>\n",
       "      <td>6.0</td>\n",
       "    </tr>\n",
       "    <tr>\n",
       "      <th>3</th>\n",
       "      <td>1004</td>\n",
       "      <td>2023-01-05</td>\n",
       "      <td>Ayesha</td>\n",
       "      <td>Lahore</td>\n",
       "      <td>Laptop</td>\n",
       "      <td>1.0</td>\n",
       "      <td>80000</td>\n",
       "      <td>NaN</td>\n",
       "      <td>NaN</td>\n",
       "      <td>NaN</td>\n",
       "    </tr>\n",
       "    <tr>\n",
       "      <th>4</th>\n",
       "      <td>1005</td>\n",
       "      <td>2023-01-06</td>\n",
       "      <td>Zain</td>\n",
       "      <td>Multan</td>\n",
       "      <td>Mobile</td>\n",
       "      <td>NaN</td>\n",
       "      <td>50000</td>\n",
       "      <td>0.15</td>\n",
       "      <td>6000.0</td>\n",
       "      <td>5.0</td>\n",
       "    </tr>\n",
       "    <tr>\n",
       "      <th>5</th>\n",
       "      <td>1006</td>\n",
       "      <td>2023-01-07</td>\n",
       "      <td>Ali</td>\n",
       "      <td>Lahore</td>\n",
       "      <td>Tablet</td>\n",
       "      <td>2.0</td>\n",
       "      <td>30000</td>\n",
       "      <td>0.05</td>\n",
       "      <td>4000.0</td>\n",
       "      <td>7.0</td>\n",
       "    </tr>\n",
       "    <tr>\n",
       "      <th>6</th>\n",
       "      <td>1007</td>\n",
       "      <td>2023-01-08</td>\n",
       "      <td>Sara</td>\n",
       "      <td>Karachi</td>\n",
       "      <td>Laptop</td>\n",
       "      <td>1.0</td>\n",
       "      <td>80000</td>\n",
       "      <td>0.05</td>\n",
       "      <td>10000.0</td>\n",
       "      <td>2.0</td>\n",
       "    </tr>\n",
       "    <tr>\n",
       "      <th>7</th>\n",
       "      <td>1008</td>\n",
       "      <td>2023-01-09</td>\n",
       "      <td>Zain</td>\n",
       "      <td>Multan</td>\n",
       "      <td>Tablet</td>\n",
       "      <td>1.0</td>\n",
       "      <td>30000</td>\n",
       "      <td>NaN</td>\n",
       "      <td>3500.0</td>\n",
       "      <td>8.0</td>\n",
       "    </tr>\n",
       "    <tr>\n",
       "      <th>8</th>\n",
       "      <td>1009</td>\n",
       "      <td>2023-01-10</td>\n",
       "      <td>Ayesha</td>\n",
       "      <td>Lahore</td>\n",
       "      <td>Mobile</td>\n",
       "      <td>2.0</td>\n",
       "      <td>50000</td>\n",
       "      <td>0.20</td>\n",
       "      <td>7500.0</td>\n",
       "      <td>3.0</td>\n",
       "    </tr>\n",
       "  </tbody>\n",
       "</table>\n",
       "</div>"
      ],
      "text/plain": [
       "   OrderID       Date Customer     Region Product  Quantity  Price  Discount  \\\n",
       "0     1001 2023-01-02      Ali     Lahore  Laptop       2.0  80000      0.05   \n",
       "1     1002 2023-01-03     Sara    Karachi  Mobile       1.0  50000       NaN   \n",
       "2     1003 2023-01-04     John  Islamabad  Tablet       3.0  30000      0.10   \n",
       "3     1004 2023-01-05   Ayesha     Lahore  Laptop       1.0  80000       NaN   \n",
       "4     1005 2023-01-06     Zain     Multan  Mobile       NaN  50000      0.15   \n",
       "5     1006 2023-01-07      Ali     Lahore  Tablet       2.0  30000      0.05   \n",
       "6     1007 2023-01-08     Sara    Karachi  Laptop       1.0  80000      0.05   \n",
       "7     1008 2023-01-09     Zain     Multan  Tablet       1.0  30000       NaN   \n",
       "8     1009 2023-01-10   Ayesha     Lahore  Mobile       2.0  50000      0.20   \n",
       "\n",
       "    Profit  Ranking  \n",
       "0  12000.0      1.0  \n",
       "1   7000.0      4.0  \n",
       "2   4500.0      6.0  \n",
       "3      NaN      NaN  \n",
       "4   6000.0      5.0  \n",
       "5   4000.0      7.0  \n",
       "6  10000.0      2.0  \n",
       "7   3500.0      8.0  \n",
       "8   7500.0      3.0  "
      ]
     },
     "execution_count": 44,
     "metadata": {},
     "output_type": "execute_result"
    }
   ],
   "source": [
    "df[\"Date\"] = pd.to_datetime(df[\"Date\"])\n",
    "df"
   ]
  },
  {
   "cell_type": "code",
   "execution_count": 46,
   "id": "cf6ed7e6-515f-4f6d-a53c-b4efad8b33c9",
   "metadata": {},
   "outputs": [
    {
     "name": "stdout",
     "output_type": "stream",
     "text": [
      "   OrderID       Date Customer     Region Product  Quantity  Price  Discount  \\\n",
      "0     1001 2023-01-02      Ali     Lahore  Laptop       2.0  80000      0.05   \n",
      "1     1002 2023-01-03     Sara    Karachi  Mobile       1.0  50000       NaN   \n",
      "2     1003 2023-01-04     John  Islamabad  Tablet       3.0  30000      0.10   \n",
      "3     1004 2023-01-05   Ayesha     Lahore  Laptop       1.0  80000       NaN   \n",
      "4     1005 2023-01-06     Zain     Multan  Mobile       NaN  50000      0.15   \n",
      "5     1006 2023-01-07      Ali     Lahore  Tablet       2.0  30000      0.05   \n",
      "6     1007 2023-01-08     Sara    Karachi  Laptop       1.0  80000      0.05   \n",
      "7     1008 2023-01-09     Zain     Multan  Tablet       1.0  30000       NaN   \n",
      "8     1009 2023-01-10   Ayesha     Lahore  Mobile       2.0  50000      0.20   \n",
      "\n",
      "    Profit  Ranking  Month    Weekday  \n",
      "0  12000.0      1.0      1     Monday  \n",
      "1   7000.0      4.0      1    Tuesday  \n",
      "2   4500.0      6.0      1  Wednesday  \n",
      "3      NaN      NaN      1   Thursday  \n",
      "4   6000.0      5.0      1     Friday  \n",
      "5   4000.0      7.0      1   Saturday  \n",
      "6  10000.0      2.0      1     Sunday  \n",
      "7   3500.0      8.0      1     Monday  \n",
      "8   7500.0      3.0      1    Tuesday  \n"
     ]
    }
   ],
   "source": [
    "df[\"Month\"] = df[\"Date\"].dt.month\n",
    "df[\"Weekday\"] = df[\"Date\"].dt.day_name()\n",
    "\n",
    "# Filter January orders\n",
    "january_orders = df[df[\"Month\"] == 1]\n",
    "print(january_orders)"
   ]
  },
  {
   "cell_type": "code",
   "execution_count": 57,
   "id": "b7f027ea-771d-4ad5-85c7-1fae1414930a",
   "metadata": {},
   "outputs": [
    {
     "data": {
      "image/png": "[encoded data removed]",
      "text/plain": [
       "<Figure size 640x480 with 1 Axes>"
      ]
     },
     "metadata": {},
     "output_type": "display_data"
    }
   ],
   "source": [
    "df.groupby(\"Product\")[\"Profit\"].sum().plot(kind=\"bar\", color=\"skyblue\")\n",
    "plt.title(\"Total Profit by Product\")\n",
    "plt.ylabel(\"Total Profit\")\n",
    "plt.xlabel(\"Product\")\n",
    "plt.xticks(rotation=0)\n",
    "plt.grid(True)\n",
    "plt.tight_layout()\n",
    "plt.show()"
   ]
  },
  {
   "cell_type": "code",
   "execution_count": 56,
   "id": "7c0cff49-19b0-46e8-ab06-c0bc135e04e9",
   "metadata": {
    "scrolled": true
   },
   "outputs": [
    {
     "data": {
      "image/png": "[encoded data removed]",
      "text/plain": [
       "<Figure size 640x480 with 1 Axes>"
      ]
     },
     "metadata": {},
     "output_type": "display_data"
    }
   ],
   "source": [
    "df.groupby(\"Region\")[\"Quantity\"].sum().plot(kind=\"bar\", color=\"orange\")\n",
    "plt.title(\"Total Profit by Product\")\n",
    "plt.ylabel(\"Total Profit\")\n",
    "plt.xlabel(\"Product\")\n",
    "plt.xticks(rotation=0)\n",
    "plt.grid(True)\n",
    "plt.tight_layout()\n",
    "plt.show()"
   ]
  },
  {
   "cell_type": "code",
   "execution_count": 58,
   "id": "a5258a6b-0da7-4ec0-9ca8-fe22c51d292f",
   "metadata": {},
   "outputs": [
    {
     "data": {
      "image/png": "[encoded data removed]",
      "text/plain": [
       "<Figure size 640x480 with 1 Axes>"
      ]
     },
     "metadata": {},
     "output_type": "display_data"
    }
   ],
   "source": [
    "df.groupby(\"Date\")[\"Profit\"].sum().plot(kind=\"line\", marker=\"o\", color=\"green\")\n",
    "\n",
    "plt.title(\"Daily Profit Trend\")\n",
    "plt.ylabel(\"Total Profit\")\n",
    "plt.xlabel(\"Date\")\n",
    "plt.grid(True)\n",
    "plt.tight_layout()\n",
    "plt.show()\n"
   ]
  },
  {
   "cell_type": "code",
   "execution_count": 59,
   "id": "7639cd56-2e53-4e68-8e2f-97c8da1d8364",
   "metadata": {},
   "outputs": [
    {
     "data": {
      "image/png": "[encoded data removed]",
      "text/plain": [
       "<Figure size 640x480 with 1 Axes>"
      ]
     },
     "metadata": {},
     "output_type": "display_data"
    }
   ],
   "source": [
    "df[\"Discount\"].plot(kind=\"hist\", bins=5, color=\"purple\", edgecolor=\"black\")\n",
    "\n",
    "plt.title(\"Distribution of Discounts\")\n",
    "plt.xlabel(\"Discount\")\n",
    "plt.grid(True)\n",
    "plt.tight_layout()\n",
    "plt.show()\n"
   ]
  }
 ],
 "metadata": {
  "kernelspec": {
   "display_name": "Python 3 (ipykernel)",
   "language": "python",
   "name": "python3"
  },
  "language_info": {
   "codemirror_mode": {
    "name": "ipython",
    "version": 3
   },
   "file_extension": ".py",
   "mimetype": "text/x-python",
   "name": "python",
   "nbconvert_exporter": "python",
   "pygments_lexer": "ipython3",
   "version": "3.13.5"
  }
 },
 "nbformat": 4,
 "nbformat_minor": 5
}
