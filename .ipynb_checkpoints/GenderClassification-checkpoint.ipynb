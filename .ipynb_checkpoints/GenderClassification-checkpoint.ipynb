{
 "cells": [
  {
   "cell_type": "code",
   "execution_count": 1,
   "id": "19f0c069-4374-401f-a572-afcb00277ed0",
   "metadata": {},
   "outputs": [],
   "source": [
    "from sklearn import tree\n",
    "data = [\n",
    "    [181, 80, 44],\n",
    "    [165, 60, 39],\n",
    "    [172, 68, 41],\n",
    "    [190, 95, 46],\n",
    "    [158, 52, 37],\n",
    "    [177, 75, 43],\n",
    "    [183, 85, 45],\n",
    "    [169, 65, 40],\n",
    "    [175, 70, 42],\n",
    "    [162, 55, 38],\n",
    "    [185, 90, 44],\n",
    "    [178, 73, 42],\n",
    "    [160, 50, 36],\n",
    "    [168, 62, 39],\n",
    "    [182, 82, 43]\n",
    "]\n",
    "gender = [\n",
    "    'male',\n",
    "    'female',\n",
    "    'male',\n",
    "    'male',\n",
    "    'female',\n",
    "    'male',\n",
    "    'male',\n",
    "    'female',\n",
    "    'male',\n",
    "    'female',\n",
    "    'male',\n",
    "    'male',\n",
    "    'female',\n",
    "    'female',\n",
    "    'male'\n",
    "]\n",
    "clf = tree.DecisionTreeClassifier() # DecisionTreeClassifier to create a decision tree\n",
    "clf  = clf.fit(data, gender) # fit method trains the classifier"
   ]
  },
  {
   "cell_type": "code",
   "execution_count": 2,
   "id": "9a0a48bc-1d1a-4d6d-b66f-f31965e9a6de",
   "metadata": {},
   "outputs": [
    {
     "ename": "NameError",
     "evalue": "name 'prediction' is not defined",
     "output_type": "error",
     "traceback": [
      "\u001b[1;31m---------------------------------------------------------------------------\u001b[0m",
      "\u001b[1;31mNameError\u001b[0m                                 Traceback (most recent call last)",
      "Cell \u001b[1;32mIn[2], line 2\u001b[0m\n\u001b[0;32m      1\u001b[0m predicition \u001b[38;5;241m=\u001b[39m clf\u001b[38;5;241m.\u001b[39mpredict([[\u001b[38;5;241m190\u001b[39m, \u001b[38;5;241m70\u001b[39m, \u001b[38;5;241m43\u001b[39m]])\n\u001b[1;32m----> 2\u001b[0m \u001b[38;5;28mprint\u001b[39m(\u001b[43mprediction\u001b[49m)\n",
      "\u001b[1;31mNameError\u001b[0m: name 'prediction' is not defined"
     ]
    }
   ],
   "source": [
    "prediction = clf.predict([[190, 70, 43]])\n",
    "print(prediction)"
   ]
  }
 ],
 "metadata": {
  "kernelspec": {
   "display_name": "Python 3 (ipykernel)",
   "language": "python",
   "name": "python3"
  },
  "language_info": {
   "codemirror_mode": {
    "name": "ipython",
    "version": 3
   },
   "file_extension": ".py",
   "mimetype": "text/x-python",
   "name": "python",
   "nbconvert_exporter": "python",
   "pygments_lexer": "ipython3",
   "version": "3.12.6"
  }
 },
 "nbformat": 4,
 "nbformat_minor": 5
}
