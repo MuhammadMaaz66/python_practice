{
 "cells": [
  {
   "cell_type": "markdown",
   "id": "cd482f5c-d767-4755-86cd-80567aebe598",
   "metadata": {},
   "source": [
    "## Functions"
   ]
  },
  {
   "cell_type": "code",
   "execution_count": 7,
   "id": "ef0d7bbf-caf2-466c-a2fe-5a865a6ad706",
   "metadata": {},
   "outputs": [
    {
     "name": "stdout",
     "output_type": "stream",
     "text": [
      "Enter a number: \n"
     ]
    },
    {
     "name": "stdin",
     "output_type": "stream",
     "text": [
      " 2223\n"
     ]
    },
    {
     "name": "stdout",
     "output_type": "stream",
     "text": [
      "The number you entered is odd!\n"
     ]
    }
   ],
   "source": [
    "# Write a function that checks if a number is even or odd.\n",
    "def evenOdd(n):\n",
    "    if(n%2 == 0):\n",
    "        print(\"The number you entered is even!\")\n",
    "    else:\n",
    "        print(\"The number you entered is odd!\")\n",
    "print(\"Enter a number: \")\n",
    "number = int(input())\n",
    "evenOdd(number)"
   ]
  },
  {
   "cell_type": "code",
   "execution_count": 23,
   "id": "4091aa22-e8a0-4c8d-bb82-cbab3d2b7669",
   "metadata": {},
   "outputs": [
    {
     "name": "stdout",
     "output_type": "stream",
     "text": [
      "Enter a list of numbers separated by commas (e.g., 2, 2, 5): \n"
     ]
    },
    {
     "name": "stdin",
     "output_type": "stream",
     "text": [
      " 3,3, 4\n"
     ]
    },
    {
     "name": "stdout",
     "output_type": "stream",
     "text": [
      "Sum: 10\n"
     ]
    }
   ],
   "source": [
    "# Create a function that returns the sum of all numbers in a list.\n",
    "\n",
    "def sum(n):\n",
    "    sumOfList = 0\n",
    "    for i in n:\n",
    "        sumOfList += i\n",
    "    return sumOfList\n",
    "\n",
    "print(\"Enter a list of numbers separated by commas (e.g., 2, 2, 5): \")\n",
    "user_input = input()\n",
    "\n",
    "# Convert input string to list of integers\n",
    "listItem = [int(x.strip()) for x in user_input.split(\",\")]\n",
    "\n",
    "# Call the function\n",
    "result = sum(listItem)\n",
    "print(\"Sum:\", result)"
   ]
  },
  {
   "cell_type": "code",
   "execution_count": 37,
   "id": "5ec73904-f8b9-4cba-8663-b85361cda2ce",
   "metadata": {},
   "outputs": [
    {
     "name": "stdout",
     "output_type": "stream",
     "text": [
      "Enter a string to find its reverse: \n"
     ]
    },
    {
     "name": "stdin",
     "output_type": "stream",
     "text": [
      " hello this is a string\n"
     ]
    },
    {
     "name": "stdout",
     "output_type": "stream",
     "text": [
      "gnirts a si siht olleh\n"
     ]
    }
   ],
   "source": [
    "# Write a function that takes a string and returns it in reverse\n",
    "def reverseString(s):\n",
    "    reversed = list(s)\n",
    "    reversed.reverse()\n",
    "    print(''.join(reversed))\n",
    "print(\"Enter a string to find its reverse: \")\n",
    "string = input()\n",
    "reverseString(string)"
   ]
  }
 ],
 "metadata": {
  "kernelspec": {
   "display_name": "Python 3 (ipykernel)",
   "language": "python",
   "name": "python3"
  },
  "language_info": {
   "codemirror_mode": {
    "name": "ipython",
    "version": 3
   },
   "file_extension": ".py",
   "mimetype": "text/x-python",
   "name": "python",
   "nbconvert_exporter": "python",
   "pygments_lexer": "ipython3",
   "version": "3.12.6"
  }
 },
 "nbformat": 4,
 "nbformat_minor": 5
}
