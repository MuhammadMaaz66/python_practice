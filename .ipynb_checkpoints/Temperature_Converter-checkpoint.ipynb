{
 "cells": [
  {
   "cell_type": "markdown",
   "id": "ace3883a-2b64-4283-9341-772b326c486e",
   "metadata": {},
   "source": [
    "## Fahrenheit to Celsius Temperature Converter Code"
   ]
  },
  {
   "cell_type": "code",
   "execution_count": 8,
   "id": "90e3d56a-03f3-48f2-9c09-04ba54af9438",
   "metadata": {},
   "outputs": [
    {
     "name": "stdout",
     "output_type": "stream",
     "text": [
      "Enter Fahrenheit temperature: \n"
     ]
    },
    {
     "name": "stdin",
     "output_type": "stream",
     "text": [
      " 122\n"
     ]
    },
    {
     "name": "stdout",
     "output_type": "stream",
     "text": [
      "The temperature in Celsius is: 50 degrees\n"
     ]
    }
   ],
   "source": [
    "# formula is C = 5/9(F-32)\n",
    "temperature = 0\n",
    "print(\"Enter Fahrenheit temperature: \")\n",
    "temperature = input()\n",
    "celsius = 5/9*(int(temperature) - 32)\n",
    "print(\"The temperature in Celsius is: \"+ str(round(celsius)) + \" degrees\")"
   ]
  },
  {
   "cell_type": "markdown",
   "id": "396673d0-d0d9-48b2-baab-28584977b521",
   "metadata": {},
   "source": [
    "## Celsius to Fahrenheit Temperature Converter Code"
   ]
  },
  {
   "cell_type": "code",
   "execution_count": 9,
   "id": "ef11dbb5-f43b-42ad-b342-ed0e4a6f7556",
   "metadata": {},
   "outputs": [
    {
     "name": "stdout",
     "output_type": "stream",
     "text": [
      "Enter Celsius temperature: \n"
     ]
    },
    {
     "name": "stdin",
     "output_type": "stream",
     "text": [
      " 40\n"
     ]
    },
    {
     "name": "stdout",
     "output_type": "stream",
     "text": [
      "The temperature in Fahrenheit is: 104 degrees\n"
     ]
    }
   ],
   "source": [
    "# formula is F = C(9/5) + 32\n",
    "temperature = 0\n",
    "print(\"Enter Celsius temperature: \")\n",
    "temperature = input()\n",
    "fahrenheit = int(temperature)*(9/5) + 32\n",
    "print(\"The temperature in Fahrenheit is: \"+ str(round(fahrenheit)) + \" degrees\")"
   ]
  }
 ],
 "metadata": {
  "kernelspec": {
   "display_name": "Python 3 (ipykernel)",
   "language": "python",
   "name": "python3"
  },
  "language_info": {
   "codemirror_mode": {
    "name": "ipython",
    "version": 3
   },
   "file_extension": ".py",
   "mimetype": "text/x-python",
   "name": "python",
   "nbconvert_exporter": "python",
   "pygments_lexer": "ipython3",
   "version": "3.12.6"
  }
 },
 "nbformat": 4,
 "nbformat_minor": 5
}
