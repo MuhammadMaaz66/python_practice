{
 "cells": [
  {
   "cell_type": "markdown",
   "id": "40ce2e73-d83b-4a4a-8d0f-d2b7d77fe974",
   "metadata": {},
   "source": [
    "### Roll The Dice"
   ]
  },
  {
   "cell_type": "code",
   "execution_count": 3,
   "id": "266aa088-7f6c-402d-8a2c-919c4ea6ac24",
   "metadata": {},
   "outputs": [
    {
     "name": "stdin",
     "output_type": "stream",
     "text": [
      "Press Enter to roll the dice... \n"
     ]
    },
    {
     "name": "stdout",
     "output_type": "stream",
     "text": [
      "You rolled a 3\n"
     ]
    },
    {
     "name": "stdin",
     "output_type": "stream",
     "text": [
      "Roll again? (y/n):  y\n",
      "Press Enter to roll the dice... \n"
     ]
    },
    {
     "name": "stdout",
     "output_type": "stream",
     "text": [
      "You rolled a 4\n"
     ]
    },
    {
     "name": "stdin",
     "output_type": "stream",
     "text": [
      "Roll again? (y/n):  s\n"
     ]
    }
   ],
   "source": [
    "import random\n",
    "\n",
    "def rollDice():\n",
    "    return random.randint(1, 6)\n",
    "\n",
    "while True:\n",
    "    input(\"Press Enter to roll the dice...\")\n",
    "    print(f\"You rolled a {rollDice()}\")\n",
    "    again = input(\"Roll again? (y/n): \")\n",
    "    if again.lower() != 'y':\n",
    "        break\n",
    "# while True:\n",
    "#     input(\"Press enter to roll the dice...\")\n",
    "#     result = rollDice()\n",
    "#     print(f\"You rolled a {rollDice()}\")\n",
    "#     again = input(\"again? Y/n: \")\n",
    "#     if(again == 'Y' or again == 'y'):\n",
    "#         result = rollDice()\n",
    "#         print(f\"You rolled a {rollDice()}\")\n",
    "#     else:\n",
    "#         break"
   ]
  }
 ],
 "metadata": {
  "kernelspec": {
   "display_name": "Python 3 (ipykernel)",
   "language": "python",
   "name": "python3"
  },
  "language_info": {
   "codemirror_mode": {
    "name": "ipython",
    "version": 3
   },
   "file_extension": ".py",
   "mimetype": "text/x-python",
   "name": "python",
   "nbconvert_exporter": "python",
   "pygments_lexer": "ipython3",
   "version": "3.12.6"
  }
 },
 "nbformat": 4,
 "nbformat_minor": 5
}
