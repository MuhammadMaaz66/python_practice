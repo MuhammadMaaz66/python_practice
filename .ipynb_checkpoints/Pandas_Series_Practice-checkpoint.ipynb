{
 "cells": [
  {
   "cell_type": "markdown",
   "id": "d8c85683-13b4-468b-af4b-81d7ecd52423",
   "metadata": {},
   "source": [
    "### Panda's Series Data Structure Practice"
   ]
  },
  {
   "cell_type": "code",
   "execution_count": 1,
   "id": "a5319c1b-3f61-49de-92d4-cf2285f71798",
   "metadata": {},
   "outputs": [],
   "source": [
    "import pandas as pd"
   ]
  },
  {
   "cell_type": "code",
   "execution_count": 2,
   "id": "b77e8291-1088-4e08-84dc-947819dd9a44",
   "metadata": {},
   "outputs": [
    {
     "data": {
      "text/plain": [
       "0    1\n",
       "1    2\n",
       "2    3\n",
       "3    4\n",
       "4    5\n",
       "dtype: int64"
      ]
     },
     "execution_count": 2,
     "metadata": {},
     "output_type": "execute_result"
    }
   ],
   "source": [
    "s = pd.Series([1, 2,3,4,5])\n",
    "s"
   ]
  },
  {
   "cell_type": "markdown",
   "id": "9be0a1b6-b9ac-478e-89a5-55d7c81df0ae",
   "metadata": {},
   "source": [
    "#### Task 1: Create a Series of student marks"
   ]
  },
  {
   "cell_type": "code",
   "execution_count": 3,
   "id": "3611da3b-14e7-4845-adc7-94bbd6efe80b",
   "metadata": {},
   "outputs": [
    {
     "name": "stdout",
     "output_type": "stream",
     "text": [
      "Ali       92\n",
      "Sara      85\n",
      "John      77\n",
      "Ayesha    89\n",
      "dtype: int64\n"
     ]
    }
   ],
   "source": [
    "marks = pd.Series([92, 85, 77, 89], index=[\"Ali\", \"Sara\", \"John\", \"Ayesha\"])\n",
    "print(marks)"
   ]
  },
  {
   "cell_type": "code",
   "execution_count": 5,
   "id": "01a03497-78f8-4f7e-9050-a9923f82cee9",
   "metadata": {},
   "outputs": [
    {
     "name": "stdout",
     "output_type": "stream",
     "text": [
      "John Marks:  77\n"
     ]
    }
   ],
   "source": [
    "# Print the marks of \"John\"\n",
    "print(\"John Marks: \", marks[\"John\"])"
   ]
  },
  {
   "cell_type": "code",
   "execution_count": 6,
   "id": "f047f924-1b32-48d3-82d3-512137b6f192",
   "metadata": {},
   "outputs": [
    {
     "name": "stdout",
     "output_type": "stream",
     "text": [
      "Ali       92\n",
      "Sara      90\n",
      "John      77\n",
      "Ayesha    89\n",
      "dtype: int64\n"
     ]
    }
   ],
   "source": [
    "# Change \"Sara\"’s marks to 90\n",
    "marks[\"Sara\"] = 90\n",
    "print(marks)"
   ]
  },
  {
   "cell_type": "code",
   "execution_count": 7,
   "id": "ca818f45-715f-49de-94b7-78dcd111c776",
   "metadata": {},
   "outputs": [
    {
     "name": "stdout",
     "output_type": "stream",
     "text": [
      "Ali       92\n",
      "Sara      90\n",
      "John      77\n",
      "Ayesha    89\n",
      "Zain      81\n",
      "dtype: int64\n"
     ]
    }
   ],
   "source": [
    "# Add marks for a new student \"Zain\" = 81\n",
    "marks['Zain'] = 81\n",
    "print(marks)"
   ]
  },
  {
   "cell_type": "markdown",
   "id": "11922931-b9fb-4042-a123-8848ec96d4bd",
   "metadata": {},
   "source": [
    "#### Task 2: Perform operations on Series"
   ]
  },
  {
   "cell_type": "code",
   "execution_count": 8,
   "id": "bb715ae4-27fd-4c7e-aedc-28a6c8ed1cd9",
   "metadata": {},
   "outputs": [
    {
     "name": "stdout",
     "output_type": "stream",
     "text": [
      "Apple     110.0\n",
      "Banana    165.0\n",
      "Mango     220.0\n",
      "dtype: float64\n"
     ]
    }
   ],
   "source": [
    "prices = pd.Series([100, 150, 200], index=[\"Apple\", \"Banana\", \"Mango\"])\n",
    "print(prices * 1.1)  # Increase all prices by 10%"
   ]
  },
  {
   "cell_type": "code",
   "execution_count": 9,
   "id": "23281e39-718f-4273-b11b-fb171e4386cb",
   "metadata": {},
   "outputs": [
    {
     "name": "stdout",
     "output_type": "stream",
     "text": [
      "Apple     120\n",
      "Banana    170\n",
      "Mango     220\n",
      "dtype: int64\n"
     ]
    }
   ],
   "source": [
    "# Add a flat Rs.20 tax to all items\n",
    "print(prices + 20)"
   ]
  },
  {
   "cell_type": "code",
   "execution_count": 12,
   "id": "d92e3f37-6147-4cf9-b11e-288dcde7a750",
   "metadata": {},
   "outputs": [
    {
     "name": "stdout",
     "output_type": "stream",
     "text": [
      "Mango 200\n"
     ]
    }
   ],
   "source": [
    "# Find which item is the most expensive\n",
    "print(prices.idxmax(), prices.max()) # idxmax() is used to find the highest/expensive item. max() is used to find the highest value"
   ]
  },
  {
   "cell_type": "markdown",
   "id": "b359e986-ae08-4831-afaa-011920c3ffd4",
   "metadata": {},
   "source": [
    "####  Task 3: Detect missing values"
   ]
  },
  {
   "cell_type": "code",
   "execution_count": 13,
   "id": "3d1241d8-586d-49be-a17c-6a3d2a0c0abd",
   "metadata": {},
   "outputs": [
    {
     "name": "stdout",
     "output_type": "stream",
     "text": [
      "0    False\n",
      "1     True\n",
      "2    False\n",
      "3     True\n",
      "4    False\n",
      "dtype: bool\n",
      "0    20.0\n",
      "2    55.0\n",
      "4    85.0\n",
      "dtype: float64\n"
     ]
    }
   ],
   "source": [
    "data = pd.Series([20, None, 55, None, 85])\n",
    "print(data.isnull())\n",
    "print(data.dropna())  # Removes missing values"
   ]
  },
  {
   "cell_type": "code",
   "execution_count": 18,
   "id": "e786ff77-a43d-40a7-b8d0-8ce15a0a8403",
   "metadata": {},
   "outputs": [
    {
     "name": "stdout",
     "output_type": "stream",
     "text": [
      "0    20.0\n",
      "1     0.0\n",
      "2    55.0\n",
      "3     0.0\n",
      "4    85.0\n",
      "dtype: float64\n"
     ]
    }
   ],
   "source": [
    "# Fill missing values with 0\n",
    "s = data.fillna(0)\n",
    "print(s)"
   ]
  },
  {
   "cell_type": "code",
   "execution_count": 19,
   "id": "6e9d3e04-e19b-4397-afaf-bc9d0298ab17",
   "metadata": {},
   "outputs": [
    {
     "name": "stdout",
     "output_type": "stream",
     "text": [
      "2\n"
     ]
    }
   ],
   "source": [
    "# Count how many values are missing\n",
    "missing_count = data.isnull().sum()\n",
    "print(missing_count)"
   ]
  },
  {
   "cell_type": "markdown",
   "id": "c99d1633-06cf-4fef-8f91-0323550ab4f1",
   "metadata": {},
   "source": [
    "#### Task 4: Filtering with condition"
   ]
  },
  {
   "cell_type": "code",
   "execution_count": 20,
   "id": "8406c5ff-6ed9-4f35-afef-d69d95c9c2c4",
   "metadata": {},
   "outputs": [
    {
     "name": "stdout",
     "output_type": "stream",
     "text": [
      "Tue    40\n",
      "Thu    41\n",
      "dtype: int64\n"
     ]
    }
   ],
   "source": [
    "temperatures = pd.Series([35, 40, 28, 41, 33], index=[\"Mon\", \"Tue\", \"Wed\", \"Thu\", \"Fri\"])\n",
    "print(temperatures[temperatures > 35])"
   ]
  },
  {
   "cell_type": "code",
   "execution_count": 21,
   "id": "c0518c50-2ca5-4e01-b6cf-9fb8a614ba30",
   "metadata": {},
   "outputs": [
    {
     "name": "stdout",
     "output_type": "stream",
     "text": [
      "Mon    35\n",
      "Wed    28\n",
      "Fri    33\n",
      "dtype: int64\n"
     ]
    }
   ],
   "source": [
    "# Find the days with temperatures less than or equal to 35\n",
    "print(temperatures[temperatures <= 35])"
   ]
  },
  {
   "cell_type": "markdown",
   "id": "c580af3f-81d2-4229-ba27-c57023e5f006",
   "metadata": {},
   "source": [
    "####  Task 5: Convert a dictionary to a Series"
   ]
  },
  {
   "cell_type": "code",
   "execution_count": 22,
   "id": "d8665175-2bea-4804-99e1-286cc9e3088e",
   "metadata": {},
   "outputs": [
    {
     "name": "stdout",
     "output_type": "stream",
     "text": [
      "Lahore       11000000\n",
      "Karachi      15000000\n",
      "Islamabad     1200000\n",
      "dtype: int64\n"
     ]
    }
   ],
   "source": [
    "city_population = {\n",
    "    \"Lahore\": 11_000_000,\n",
    "    \"Karachi\": 15_000_000,\n",
    "    \"Islamabad\": 1_200_000\n",
    "}\n",
    "\n",
    "population_series = pd.Series(city_population)\n",
    "print(population_series)"
   ]
  },
  {
   "cell_type": "code",
   "execution_count": 23,
   "id": "96efde64-99a2-4b1f-ba2d-09590d5c7569",
   "metadata": {},
   "outputs": [
    {
     "name": "stdout",
     "output_type": "stream",
     "text": [
      "15000000\n"
     ]
    }
   ],
   "source": [
    "# Get population of Karachi\n",
    "print(population_series[\"Karachi\"])"
   ]
  },
  {
   "cell_type": "code",
   "execution_count": 25,
   "id": "926dacca-565a-4dcb-8558-de50c0e6998c",
   "metadata": {},
   "outputs": [
    {
     "name": "stdout",
     "output_type": "stream",
     "text": [
      "9066666.666666666\n"
     ]
    }
   ],
   "source": [
    "# Find average population of all cities\n",
    "print(pd.Series.mean(population_series))"
   ]
  }
 ],
 "metadata": {
  "kernelspec": {
   "display_name": "Python 3 (ipykernel)",
   "language": "python",
   "name": "python3"
  },
  "language_info": {
   "codemirror_mode": {
    "name": "ipython",
    "version": 3
   },
   "file_extension": ".py",
   "mimetype": "text/x-python",
   "name": "python",
   "nbconvert_exporter": "python",
   "pygments_lexer": "ipython3",
   "version": "3.13.5"
  }
 },
 "nbformat": 4,
 "nbformat_minor": 5
}
