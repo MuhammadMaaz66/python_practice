{
 "cells": [
  {
   "cell_type": "markdown",
   "id": "28363254-e714-4257-abd0-b4493ab71809",
   "metadata": {},
   "source": [
    "### Quiz Application"
   ]
  },
  {
   "cell_type": "code",
   "execution_count": 8,
   "id": "244fdf91-fe88-4805-843c-1fdf76a0e1fc",
   "metadata": {},
   "outputs": [
    {
     "name": "stdout",
     "output_type": "stream",
     "text": [
      "Welcome to Quiz Application\n",
      "\n",
      "how are you?\n",
      "1. good\n",
      "2. bad\n",
      "3. not well\n",
      "4. fine\n"
     ]
    },
    {
     "name": "stdin",
     "output_type": "stream",
     "text": [
      "Enter your answer 2\n"
     ]
    },
    {
     "name": "stdout",
     "output_type": "stream",
     "text": [
      "Wrong answer!\n",
      "\n",
      "what planet is also called as red planet?\n",
      "1. earth\n",
      "2. mars\n",
      "3. Jupiter\n",
      "4. Saturn\n"
     ]
    },
    {
     "name": "stdin",
     "output_type": "stream",
     "text": [
      "Enter your answer 2\n"
     ]
    },
    {
     "name": "stdout",
     "output_type": "stream",
     "text": [
      "Correct!\n",
      "\n",
      "Your final score: 1/2\n"
     ]
    }
   ],
   "source": [
    "questions = [\n",
    "    {\"question\": \"how are you?\", \"options\": [\"good\" , \"bad\", \"not well\", \"fine\"], \"correctAnswerIndex\": 0},\n",
    "    {\"question\": \"what planet is also called as red planet?\", \"options\": [\"earth\" , \"mars\", \"Jupiter\", \"Saturn\"], \"correctAnswerIndex\": 1},\n",
    "]\n",
    "score = 0\n",
    "def quiz(title, options):\n",
    "     print(\"\\n\" + title)\n",
    "     for idx, option in enumerate(options):\n",
    "        print(f\"{idx + 1}. {option}\")\n",
    "\n",
    "print(\"Welcome to Quiz Application\")\n",
    "for i in questions: \n",
    "    quiz(i[\"question\"], i[\"options\"])\n",
    "    try:\n",
    "        answer = int(input(\"Enter your answer\"))\n",
    "        if (answer  - 1 == i[\"correctAnswerIndex\"]):\n",
    "            print(\"Correct!\")\n",
    "            score += 1\n",
    "        else:\n",
    "            print(\"Wrong answer!\")\n",
    "    except ValueError: \n",
    "        print(\"Incorrect value\")\n",
    "\n",
    "print(f\"\\nYour final score: {score}/{len(questions)}\")"
   ]
  }
 ],
 "metadata": {
  "kernelspec": {
   "display_name": "Python 3 (ipykernel)",
   "language": "python",
   "name": "python3"
  },
  "language_info": {
   "codemirror_mode": {
    "name": "ipython",
    "version": 3
   },
   "file_extension": ".py",
   "mimetype": "text/x-python",
   "name": "python",
   "nbconvert_exporter": "python",
   "pygments_lexer": "ipython3",
   "version": "3.12.6"
  }
 },
 "nbformat": 4,
 "nbformat_minor": 5
}
