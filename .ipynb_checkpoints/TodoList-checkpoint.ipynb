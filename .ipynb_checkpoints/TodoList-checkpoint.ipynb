{
 "cells": [
  {
   "cell_type": "markdown",
   "id": "539b49ee-b033-49cb-b813-903555689ca8",
   "metadata": {},
   "source": [
    "## A Simple Todo List in Python"
   ]
  },
  {
   "cell_type": "markdown",
   "id": "c192f73a-84a7-4266-8e54-16c27c416af8",
   "metadata": {},
   "source": [
    "##### this is a simple todo app that performs following functions: \n",
    "###### 1. Add Todo\n",
    "###### 2. View Todo\n",
    "###### 3. Delete Todo\n",
    "\n",
    "##### It utilizes following python concepts:\n",
    "###### 1. Functions\n",
    "###### 2. Loops\n",
    "###### 3. Branching\n",
    "###### 4. File Manipulation"
   ]
  },
  {
   "cell_type": "code",
   "execution_count": 32,
   "id": "65e10b2c-747b-4939-8226-ddd1822854e6",
   "metadata": {},
   "outputs": [
    {
     "name": "stdout",
     "output_type": "stream",
     "text": [
      "\t\tWelcome to Todo App\n",
      "------------------------------------------------------\n",
      "Please select an operation you would like to perform\n",
      "a. Add Todo\n",
      "b. View Todo\n",
      "c. Delete Todo\n",
      "q. Quit\n",
      "Enter option a, b, c or q: \n"
     ]
    },
    {
     "name": "stdin",
     "output_type": "stream",
     "text": [
      " q\n"
     ]
    },
    {
     "name": "stdout",
     "output_type": "stream",
     "text": [
      "👋 goodbye!\n"
     ]
    }
   ],
   "source": [
    "import os\n",
    "\n",
    "def createTodo():\n",
    "    print(\"enter file name you want to save it with: \")\n",
    "    filename = input().strip() + \".txt\"\n",
    "     # Append if file exists, otherwise create\n",
    "    mode = 'a' if os.path.exists(filename) else 'w'\n",
    "    print(\"Enter text you want to add: \")\n",
    "    todo = input()\n",
    "    with open(filename, mode) as file:\n",
    "        file.write(\"\\n\" + todo)\n",
    "\n",
    "    print(\"✅ Todo added successfully!\\n\")\n",
    "\n",
    "def ViewTodo():\n",
    "    print(\"Enter filename you want to open: \")\n",
    "    filename = input().strip() + \".txt\"\n",
    "    mode = 'r'\n",
    "    if os.path.exists(filename):\n",
    "        with open(filename, mode) as file:\n",
    "            content = file.read()\n",
    "            print(\"---------------- Your Todo list ----------------\")\n",
    "            print(content if content.strip() else \"❌ No todos found!\")\n",
    "            print(\"---------------------------------------------------\")\n",
    "    else: \n",
    "        print(\"❌ File Not Found\")\n",
    "\n",
    "def DeleteTodo():\n",
    "    print(\"Enter filename you want to delete: \")\n",
    "    filename = input().strip() + \".txt\"\n",
    "    if os.path.exists(filename):\n",
    "        os.remove(filename)\n",
    "        print(\"✅ File Deleted Successfully!\")\n",
    "    else: \n",
    "        print(\"❌ File Not Found\")\n",
    "\n",
    "def StartUp():\n",
    "    while True:\n",
    "        print(\"Please select an operation you would like to perform\")\n",
    "        print(\"a. Add Todo\")\n",
    "        print(\"b. View Todo\")\n",
    "        print(\"c. Delete Todo\")\n",
    "        print(\"q. Quit\")\n",
    "        print(\"Enter option a, b, c or q: \")\n",
    "        option = input().strip()\n",
    "        if (option == 'a'):\n",
    "            createTodo()\n",
    "        elif (option == 'b'):\n",
    "            ViewTodo()\n",
    "        elif (option == 'c'):\n",
    "            DeleteTodo()\n",
    "        elif (option == 'q'):\n",
    "            print(\"👋 goodbye!\")\n",
    "            break\n",
    "\n",
    "print(\"\\t\\tWelcome to Todo App\")\n",
    "print(\"------------------------------------------------------\")\n",
    "StartUp()\n"
   ]
  }
 ],
 "metadata": {
  "kernelspec": {
   "display_name": "Python 3 (ipykernel)",
   "language": "python",
   "name": "python3"
  },
  "language_info": {
   "codemirror_mode": {
    "name": "ipython",
    "version": 3
   },
   "file_extension": ".py",
   "mimetype": "text/x-python",
   "name": "python",
   "nbconvert_exporter": "python",
   "pygments_lexer": "ipython3",
   "version": "3.12.6"
  }
 },
 "nbformat": 4,
 "nbformat_minor": 5
}
