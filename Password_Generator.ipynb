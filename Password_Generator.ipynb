{
 "cells": [
  {
   "cell_type": "markdown",
   "id": "d8759195-8731-44ae-b3c5-304547935ef8",
   "metadata": {},
   "source": [
    "### Password Generator"
   ]
  },
  {
   "cell_type": "code",
   "execution_count": 4,
   "id": "09d7485c-8ce2-494f-91ea-a05839ecec90",
   "metadata": {},
   "outputs": [
    {
     "name": "stdout",
     "output_type": "stream",
     "text": [
      "the password generated is: t#x*`\"EFlN0KcYN\n"
     ]
    }
   ],
   "source": [
    "import random\n",
    "import string\n",
    "\n",
    "def randomPassGenerator(length = 15):\n",
    "    characters = string.ascii_letters + string.digits + string.punctuation\n",
    "    password = ''.join(random.choice(characters) for _ in range(length))\n",
    "    return password\n",
    "password = randomPassGenerator(length=15) \n",
    "print(f\"the password generated is: {password}\")"
   ]
  }
 ],
 "metadata": {
  "kernelspec": {
   "display_name": "Python 3 (ipykernel)",
   "language": "python",
   "name": "python3"
  },
  "language_info": {
   "codemirror_mode": {
    "name": "ipython",
    "version": 3
   },
   "file_extension": ".py",
   "mimetype": "text/x-python",
   "name": "python",
   "nbconvert_exporter": "python",
   "pygments_lexer": "ipython3",
   "version": "3.12.6"
  }
 },
 "nbformat": 4,
 "nbformat_minor": 5
}
