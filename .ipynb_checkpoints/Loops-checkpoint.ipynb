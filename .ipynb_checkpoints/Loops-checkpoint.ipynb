{
 "cells": [
  {
   "cell_type": "markdown",
   "id": "b3b28a46-9e5b-40b9-91e3-72595a0ffc0f",
   "metadata": {},
   "source": [
    "## Loops (for, while)"
   ]
  },
  {
   "cell_type": "code",
   "execution_count": 8,
   "id": "50ffcfe8-4ef5-420e-ac37-1b62c946d564",
   "metadata": {},
   "outputs": [
    {
     "name": "stdout",
     "output_type": "stream",
     "text": [
      "Enter a number to print its table: \n"
     ]
    },
    {
     "name": "stdin",
     "output_type": "stream",
     "text": [
      " 2\n"
     ]
    },
    {
     "name": "stdout",
     "output_type": "stream",
     "text": [
      "2 x 1 =  2\n",
      "2 x 2 =  4\n",
      "2 x 3 =  6\n",
      "2 x 4 =  8\n",
      "2 x 5 =  10\n",
      "2 x 6 =  12\n",
      "2 x 7 =  14\n",
      "2 x 8 =  16\n",
      "2 x 9 =  18\n",
      "2 x 10 =  20\n"
     ]
    }
   ],
   "source": [
    "# Print the multiplication table of a number using a loop.\n",
    "print(\"Enter a number to print its table: \")\n",
    "number = int(input())\n",
    "count = 1\n",
    "for i in range(10):\n",
    "    if(count <= 10):\n",
    "        print(f\"{number} x {count} = \", + (count*number))\n",
    "        count+=1"
   ]
  },
  {
   "cell_type": "code",
   "execution_count": 16,
   "id": "44655924-57c9-449c-a883-4bd72bda0016",
   "metadata": {},
   "outputs": [
    {
     "name": "stdout",
     "output_type": "stream",
     "text": [
      "Enter a number to find its factorial: \n"
     ]
    },
    {
     "name": "stdin",
     "output_type": "stream",
     "text": [
      " 234234\n"
     ]
    },
    {
     "name": "stdout",
     "output_type": "stream",
     "text": [
      "Try a smaller number\n"
     ]
    }
   ],
   "source": [
    "# Calculate the factorial of a number.\n",
    "try: \n",
    "    print(\"Enter a number to find its factorial: \")\n",
    "    number = int(input())\n",
    "    def factorial(n):\n",
    "        result = 1\n",
    "        for i in range(1, n + 1):\n",
    "            result *= i\n",
    "        return result\n",
    "    \n",
    "    print(f\"Factorial of {number} is {factorial(number)}\")\n",
    "except ValueError:\n",
    "    print(\"Try a smaller number\")"
   ]
  },
  {
   "cell_type": "code",
   "execution_count": 34,
   "id": "3d51d9e8-ecee-48da-a8d5-62f7b38252df",
   "metadata": {},
   "outputs": [
    {
     "name": "stdout",
     "output_type": "stream",
     "text": [
      "You have 5 to guess the number\n"
     ]
    },
    {
     "name": "stdin",
     "output_type": "stream",
     "text": [
      "Enter number to guess:  2\n"
     ]
    },
    {
     "name": "stdout",
     "output_type": "stream",
     "text": [
      "Not Correct! try again\n",
      "Chances left 4\n"
     ]
    },
    {
     "name": "stdin",
     "output_type": "stream",
     "text": [
      "Enter number to guess:  23\n"
     ]
    },
    {
     "name": "stdout",
     "output_type": "stream",
     "text": [
      "Congratulations! Your Guess is Correct.\n"
     ]
    }
   ],
   "source": [
    "# simple guess-the-number game \n",
    "num = 23\n",
    "chances = 5\n",
    "print(f\"You have {chances} to guess the number\")\n",
    "\n",
    "for i in range(chances):\n",
    "        choice = int(input(\"Enter number to guess: \"))\n",
    "        if(choice == num):\n",
    "            print(\"Congratulations! Your Guess is Correct.\")\n",
    "            break\n",
    "        elif(choice > num):\n",
    "            print(\"Not Correct! try again\")\n",
    "        elif(choice < num):\n",
    "             print(\"Not Correct! try again\")\n",
    "        print(f\"Chances left {chances -i - 1}\")\n",
    "else:\n",
    "    print(\"Sorry You Lost!\")"
   ]
  }
 ],
 "metadata": {
  "kernelspec": {
   "display_name": "Python 3 (ipykernel)",
   "language": "python",
   "name": "python3"
  },
  "language_info": {
   "codemirror_mode": {
    "name": "ipython",
    "version": 3
   },
   "file_extension": ".py",
   "mimetype": "text/x-python",
   "name": "python",
   "nbconvert_exporter": "python",
   "pygments_lexer": "ipython3",
   "version": "3.12.6"
  }
 },
 "nbformat": 4,
 "nbformat_minor": 5
}
