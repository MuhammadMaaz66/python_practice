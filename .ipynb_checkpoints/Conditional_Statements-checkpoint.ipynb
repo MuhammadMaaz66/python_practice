{
 "cells": [
  {
   "cell_type": "markdown",
   "id": "093e856b-426c-4338-bec4-9f25e9d7d0a7",
   "metadata": {},
   "source": [
    "## Conditional Statements (Branching)"
   ]
  },
  {
   "cell_type": "code",
   "execution_count": 4,
   "id": "73cfb778-51d1-4093-8aef-31c3dbdcaa41",
   "metadata": {},
   "outputs": [
    {
     "name": "stdout",
     "output_type": "stream",
     "text": [
      "Enter a number: \n"
     ]
    },
    {
     "name": "stdin",
     "output_type": "stream",
     "text": [
      " -2123\n"
     ]
    },
    {
     "name": "stdout",
     "output_type": "stream",
     "text": [
      "The number you entered is negative!\n"
     ]
    }
   ],
   "source": [
    "# Take a number from the user and check if it’s positive, negative, or zero.\n",
    "print(\"Enter a number: \")\n",
    "num = input()\n",
    "if(int(num) > 0):\n",
    "    print(\"The number you entered is positive!\")\n",
    "elif(int(num) < 0):\n",
    "    print(\"The number you entered is negative!\")\n",
    "else:\n",
    "    print(\"The number you entered is zero!\")"
   ]
  },
  {
   "cell_type": "code",
   "execution_count": 7,
   "id": "b28598c0-4aa0-4171-ad65-f78205f8ac4b",
   "metadata": {},
   "outputs": [
    {
     "name": "stdout",
     "output_type": "stream",
     "text": [
      "Enter marks: \n"
     ]
    },
    {
     "name": "stdin",
     "output_type": "stream",
     "text": [
      " 85\n"
     ]
    },
    {
     "name": "stdout",
     "output_type": "stream",
     "text": [
      "Your grade is A!\n"
     ]
    }
   ],
   "source": [
    "# Create a grading system: input marks and output grade (A, B, C...).\n",
    "print(\"Enter marks: \")\n",
    "marks = int(input())\n",
    "if(marks > 80):\n",
    "    print(\"Your grade is A!\")\n",
    "elif(marks > 70 and marks < 80):\n",
    "    print(\"Your grade is B!\")\n",
    "elif(marks > 60 and marks < 70):\n",
    "    print(\"Your grade is C!\")\n",
    "elif(marks > 50 and marks < 60):\n",
    "    print(\"Your grade is D!\")\n",
    "else:\n",
    "    print(\"Your grade is F!\")"
   ]
  },
  {
   "cell_type": "code",
   "execution_count": 8,
   "id": "cb3da349-b90c-4d68-86a7-3481bf7f87e2",
   "metadata": {},
   "outputs": [
    {
     "name": "stdout",
     "output_type": "stream",
     "text": [
      "Enter First number: \n"
     ]
    },
    {
     "name": "stdin",
     "output_type": "stream",
     "text": [
      " 12\n"
     ]
    },
    {
     "name": "stdout",
     "output_type": "stream",
     "text": [
      "Enter Second number: \n"
     ]
    },
    {
     "name": "stdin",
     "output_type": "stream",
     "text": [
      " 324\n"
     ]
    },
    {
     "name": "stdout",
     "output_type": "stream",
     "text": [
      "Enter Third number: \n"
     ]
    },
    {
     "name": "stdin",
     "output_type": "stream",
     "text": [
      " 234234\n"
     ]
    },
    {
     "name": "stdout",
     "output_type": "stream",
     "text": [
      "234234 is the greatest number\n"
     ]
    }
   ],
   "source": [
    "# Write a program to find the largest of three numbers using if-elif-else\n",
    "print(\"Enter First number: \")\n",
    "num1 = int(input())\n",
    "print(\"Enter Second number: \")\n",
    "num2 = int(input())\n",
    "print(\"Enter Third number: \")\n",
    "num3 = int(input())\n",
    "\n",
    "if(num1 > num2 and num1 > num3):\n",
    "    print(f\"{num1} is the greatest number\")\n",
    "elif(num2 > num1 and num2 > num3):\n",
    "    print(f\"{num2} is the greatest number\")\n",
    "else:\n",
    "    print(f\"{num3} is the greatest number\")"
   ]
  }
 ],
 "metadata": {
  "kernelspec": {
   "display_name": "Python 3 (ipykernel)",
   "language": "python",
   "name": "python3"
  },
  "language_info": {
   "codemirror_mode": {
    "name": "ipython",
    "version": 3
   },
   "file_extension": ".py",
   "mimetype": "text/x-python",
   "name": "python",
   "nbconvert_exporter": "python",
   "pygments_lexer": "ipython3",
   "version": "3.12.6"
  }
 },
 "nbformat": 4,
 "nbformat_minor": 5
}
