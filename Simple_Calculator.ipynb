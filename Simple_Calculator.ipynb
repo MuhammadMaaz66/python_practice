{
 "cells": [
  {
   "cell_type": "markdown",
   "id": "64c25964-f418-4dfc-9d65-dcae42b14828",
   "metadata": {},
   "source": [
    "### Simple Calculator using Functions"
   ]
  },
  {
   "cell_type": "code",
   "execution_count": 2,
   "id": "31aa3643-df74-4d55-8fc4-f982588ddc00",
   "metadata": {},
   "outputs": [
    {
     "name": "stdout",
     "output_type": "stream",
     "text": [
      "Enter first number: \n"
     ]
    },
    {
     "name": "stdin",
     "output_type": "stream",
     "text": [
      " 23\n"
     ]
    },
    {
     "name": "stdout",
     "output_type": "stream",
     "text": [
      "Enter second number: \n"
     ]
    },
    {
     "name": "stdin",
     "output_type": "stream",
     "text": [
      " 24\n"
     ]
    },
    {
     "name": "stdout",
     "output_type": "stream",
     "text": [
      "enter a, b, c or d to perform: \n",
      " a. Addition \n",
      " b. Subtraction \n",
      " c. Multiplication \n",
      " d. Division\n"
     ]
    },
    {
     "name": "stdin",
     "output_type": "stream",
     "text": [
      " c\n"
     ]
    },
    {
     "name": "stdout",
     "output_type": "stream",
     "text": [
      "The output is:  552\n"
     ]
    }
   ],
   "source": [
    "def Addition(a, b):\n",
    "    return a + b\n",
    "\n",
    "def Subtraction(a, b):\n",
    "    return a - b\n",
    "\n",
    "def Multiplication(a, b):\n",
    "    return a * b\n",
    "\n",
    "def Division(a, b):\n",
    "    return a / b\n",
    "\n",
    "print(\"Enter first number: \")\n",
    "first = int(input())\n",
    "print(\"Enter second number: \")\n",
    "second = int(input())\n",
    "print(\"enter a, b, c or d to perform: \\n a. Addition \\n b. Subtraction \\n c. Multiplication \\n d. Division\")\n",
    "choice = input()\n",
    "if (choice == 'a'):\n",
    "    output = Addition(first, second)\n",
    "    print(\"The output is: \", output)\n",
    "elif (choice == 'b'):\n",
    "    output = Subtraction(first, second)\n",
    "    print(\"The output is: \", output)\n",
    "elif (choice == 'c'):\n",
    "    output = Multiplication(first, second)\n",
    "    print(\"The output is: \", output)\n",
    "elif (choice == 'd'):\n",
    "    output = Division(first, second)\n",
    "    print(\"The output is: \", output)\n",
    "else:\n",
    "    print(\"Invalid Option!\")\n"
   ]
  }
 ],
 "metadata": {
  "kernelspec": {
   "display_name": "Python 3 (ipykernel)",
   "language": "python",
   "name": "python3"
  },
  "language_info": {
   "codemirror_mode": {
    "name": "ipython",
    "version": 3
   },
   "file_extension": ".py",
   "mimetype": "text/x-python",
   "name": "python",
   "nbconvert_exporter": "python",
   "pygments_lexer": "ipython3",
   "version": "3.12.6"
  }
 },
 "nbformat": 4,
 "nbformat_minor": 5
}
