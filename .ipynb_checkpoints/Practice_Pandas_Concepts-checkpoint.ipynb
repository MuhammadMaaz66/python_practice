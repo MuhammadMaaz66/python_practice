{
 "cells": [
  {
   "cell_type": "markdown",
   "id": "ffd264ce-59dd-4b6d-9640-7a3be9bc4a55",
   "metadata": {},
   "source": [
    "### Pandas Practice"
   ]
  },
  {
   "cell_type": "code",
   "execution_count": 16,
   "id": "4059d9c3-4cc9-4c93-87e4-0143bfc41f6d",
   "metadata": {},
   "outputs": [],
   "source": [
    "import pandas as pd\n",
    "df = pd.read_csv(\"data_analysis_practice.csv\")"
   ]
  },
  {
   "cell_type": "code",
   "execution_count": 2,
   "id": "d2bd8722-438a-433f-830c-adc79ffd410c",
   "metadata": {},
   "outputs": [
    {
     "data": {
      "text/html": [
       "<div>\n",
       "<style scoped>\n",
       "    .dataframe tbody tr th:only-of-type {\n",
       "        vertical-align: middle;\n",
       "    }\n",
       "\n",
       "    .dataframe tbody tr th {\n",
       "        vertical-align: top;\n",
       "    }\n",
       "\n",
       "    .dataframe thead th {\n",
       "        text-align: right;\n",
       "    }\n",
       "</style>\n",
       "<table border=\"1\" class=\"dataframe\">\n",
       "  <thead>\n",
       "    <tr style=\"text-align: right;\">\n",
       "      <th></th>\n",
       "      <th>Name</th>\n",
       "      <th>Age</th>\n",
       "      <th>Gender</th>\n",
       "      <th>Department</th>\n",
       "      <th>Score</th>\n",
       "      <th>Experience_Years</th>\n",
       "    </tr>\n",
       "  </thead>\n",
       "  <tbody>\n",
       "    <tr>\n",
       "      <th>0</th>\n",
       "      <td>Ali</td>\n",
       "      <td>23</td>\n",
       "      <td>Male</td>\n",
       "      <td>Sales</td>\n",
       "      <td>85</td>\n",
       "      <td>1</td>\n",
       "    </tr>\n",
       "    <tr>\n",
       "      <th>1</th>\n",
       "      <td>Sara</td>\n",
       "      <td>25</td>\n",
       "      <td>Female</td>\n",
       "      <td>HR</td>\n",
       "      <td>91</td>\n",
       "      <td>3</td>\n",
       "    </tr>\n",
       "    <tr>\n",
       "      <th>2</th>\n",
       "      <td>Zain</td>\n",
       "      <td>22</td>\n",
       "      <td>Male</td>\n",
       "      <td>IT</td>\n",
       "      <td>75</td>\n",
       "      <td>2</td>\n",
       "    </tr>\n",
       "    <tr>\n",
       "      <th>3</th>\n",
       "      <td>Hamza</td>\n",
       "      <td>24</td>\n",
       "      <td>Male</td>\n",
       "      <td>Sales</td>\n",
       "      <td>88</td>\n",
       "      <td>2</td>\n",
       "    </tr>\n",
       "    <tr>\n",
       "      <th>4</th>\n",
       "      <td>Mina</td>\n",
       "      <td>26</td>\n",
       "      <td>Female</td>\n",
       "      <td>Finance</td>\n",
       "      <td>95</td>\n",
       "      <td>4</td>\n",
       "    </tr>\n",
       "  </tbody>\n",
       "</table>\n",
       "</div>"
      ],
      "text/plain": [
       "    Name  Age  Gender Department  Score  Experience_Years\n",
       "0    Ali   23    Male      Sales     85                 1\n",
       "1   Sara   25  Female         HR     91                 3\n",
       "2   Zain   22    Male         IT     75                 2\n",
       "3  Hamza   24    Male      Sales     88                 2\n",
       "4   Mina   26  Female    Finance     95                 4"
      ]
     },
     "execution_count": 2,
     "metadata": {},
     "output_type": "execute_result"
    }
   ],
   "source": [
    "df.head()"
   ]
  },
  {
   "cell_type": "code",
   "execution_count": 4,
   "id": "c8e68b11-9ce2-4c8e-84d8-ebea637c93ce",
   "metadata": {},
   "outputs": [
    {
     "data": {
      "text/plain": [
       "(8, 6)"
      ]
     },
     "execution_count": 4,
     "metadata": {},
     "output_type": "execute_result"
    }
   ],
   "source": [
    "df.shape"
   ]
  },
  {
   "cell_type": "code",
   "execution_count": 7,
   "id": "8034e070-fb3a-4d94-93b4-abd219814173",
   "metadata": {},
   "outputs": [
    {
     "name": "stdout",
     "output_type": "stream",
     "text": [
      "23\n",
      "Sales\n"
     ]
    }
   ],
   "source": [
    "a = df.loc[0, 'Age']\n",
    "print(a)\n",
    "b = df.iloc[0, 3]\n",
    "print(b)"
   ]
  },
  {
   "cell_type": "code",
   "execution_count": 8,
   "id": "89279b4b-452a-4aa1-a716-296601b120cc",
   "metadata": {},
   "outputs": [
    {
     "data": {
      "text/html": [
       "<div>\n",
       "<style scoped>\n",
       "    .dataframe tbody tr th:only-of-type {\n",
       "        vertical-align: middle;\n",
       "    }\n",
       "\n",
       "    .dataframe tbody tr th {\n",
       "        vertical-align: top;\n",
       "    }\n",
       "\n",
       "    .dataframe thead th {\n",
       "        text-align: right;\n",
       "    }\n",
       "</style>\n",
       "<table border=\"1\" class=\"dataframe\">\n",
       "  <thead>\n",
       "    <tr style=\"text-align: right;\">\n",
       "      <th></th>\n",
       "      <th>Age</th>\n",
       "      <th>Score</th>\n",
       "      <th>Experience_Years</th>\n",
       "    </tr>\n",
       "  </thead>\n",
       "  <tbody>\n",
       "    <tr>\n",
       "      <th>count</th>\n",
       "      <td>8.00000</td>\n",
       "      <td>8.000000</td>\n",
       "      <td>8.00000</td>\n",
       "    </tr>\n",
       "    <tr>\n",
       "      <th>mean</th>\n",
       "      <td>24.87500</td>\n",
       "      <td>86.250000</td>\n",
       "      <td>2.75000</td>\n",
       "    </tr>\n",
       "    <tr>\n",
       "      <th>std</th>\n",
       "      <td>2.03101</td>\n",
       "      <td>6.943651</td>\n",
       "      <td>1.28174</td>\n",
       "    </tr>\n",
       "    <tr>\n",
       "      <th>min</th>\n",
       "      <td>22.00000</td>\n",
       "      <td>75.000000</td>\n",
       "      <td>1.00000</td>\n",
       "    </tr>\n",
       "    <tr>\n",
       "      <th>25%</th>\n",
       "      <td>23.75000</td>\n",
       "      <td>83.000000</td>\n",
       "      <td>2.00000</td>\n",
       "    </tr>\n",
       "    <tr>\n",
       "      <th>50%</th>\n",
       "      <td>24.50000</td>\n",
       "      <td>88.500000</td>\n",
       "      <td>2.50000</td>\n",
       "    </tr>\n",
       "    <tr>\n",
       "      <th>75%</th>\n",
       "      <td>26.25000</td>\n",
       "      <td>90.250000</td>\n",
       "      <td>3.25000</td>\n",
       "    </tr>\n",
       "    <tr>\n",
       "      <th>max</th>\n",
       "      <td>28.00000</td>\n",
       "      <td>95.000000</td>\n",
       "      <td>5.00000</td>\n",
       "    </tr>\n",
       "  </tbody>\n",
       "</table>\n",
       "</div>"
      ],
      "text/plain": [
       "            Age      Score  Experience_Years\n",
       "count   8.00000   8.000000           8.00000\n",
       "mean   24.87500  86.250000           2.75000\n",
       "std     2.03101   6.943651           1.28174\n",
       "min    22.00000  75.000000           1.00000\n",
       "25%    23.75000  83.000000           2.00000\n",
       "50%    24.50000  88.500000           2.50000\n",
       "75%    26.25000  90.250000           3.25000\n",
       "max    28.00000  95.000000           5.00000"
      ]
     },
     "execution_count": 8,
     "metadata": {},
     "output_type": "execute_result"
    }
   ],
   "source": [
    "df.describe()"
   ]
  },
  {
   "cell_type": "code",
   "execution_count": 10,
   "id": "be680ecd-2501-4465-9f71-c2f783f143c5",
   "metadata": {},
   "outputs": [
    {
     "name": "stdout",
     "output_type": "stream",
     "text": [
      "    Name  Age\n",
      "0    Ali   23\n",
      "1   Sara   25\n",
      "2   Zain   22\n",
      "3  Hamza   24\n",
      "4   Mina   26\n",
      "5  Usman   28\n",
      "6   Noor   27\n",
      "7  Ahmed   24\n"
     ]
    }
   ],
   "source": [
    "c = df[['Name', 'Age']]\n",
    "print(c)"
   ]
  },
  {
   "cell_type": "code",
   "execution_count": 17,
   "id": "1b502a93-6319-416a-b124-562b6ed8818d",
   "metadata": {},
   "outputs": [
    {
     "name": "stdout",
     "output_type": "stream",
     "text": [
      "    Name  Age  Gender Department  Score  Experience_Years\n",
      "1   Sara   25  Female         HR     91                 3\n",
      "4   Mina   26  Female    Finance     95                 4\n",
      "5  Usman   28    Male         IT     77                 3\n",
      "7  Ahmed   24    Male    Finance     90                 5\n"
     ]
    },
    {
     "data": {
      "image/png": "[encoded data removed]",
      "text/plain": [
       "<Figure size 640x480 with 1 Axes>"
      ]
     },
     "metadata": {},
     "output_type": "display_data"
    }
   ],
   "source": [
    "newCol = df[df['Experience_Years']>2]\n",
    "print(newCol)\n",
    "newCol.plot()"
   ]
  },
  {
   "cell_type": "code",
   "execution_count": 14,
   "id": "e0643a53-dfe0-4172-8b65-0d48c5f077f5",
   "metadata": {},
   "outputs": [
    {
     "data": {
      "text/html": [
       "<div>\n",
       "<style scoped>\n",
       "    .dataframe tbody tr th:only-of-type {\n",
       "        vertical-align: middle;\n",
       "    }\n",
       "\n",
       "    .dataframe tbody tr th {\n",
       "        vertical-align: top;\n",
       "    }\n",
       "\n",
       "    .dataframe thead th {\n",
       "        text-align: right;\n",
       "    }\n",
       "</style>\n",
       "<table border=\"1\" class=\"dataframe\">\n",
       "  <thead>\n",
       "    <tr style=\"text-align: right;\">\n",
       "      <th></th>\n",
       "      <th>Name</th>\n",
       "      <th>Age</th>\n",
       "      <th>Gender</th>\n",
       "      <th>Department</th>\n",
       "      <th>Score</th>\n",
       "      <th>Experience_Years</th>\n",
       "    </tr>\n",
       "  </thead>\n",
       "  <tbody>\n",
       "    <tr>\n",
       "      <th>3</th>\n",
       "      <td>Hamza</td>\n",
       "      <td>24</td>\n",
       "      <td>Male</td>\n",
       "      <td>Sales</td>\n",
       "      <td>88</td>\n",
       "      <td>2</td>\n",
       "    </tr>\n",
       "    <tr>\n",
       "      <th>4</th>\n",
       "      <td>Mina</td>\n",
       "      <td>26</td>\n",
       "      <td>Female</td>\n",
       "      <td>Finance</td>\n",
       "      <td>95</td>\n",
       "      <td>4</td>\n",
       "    </tr>\n",
       "    <tr>\n",
       "      <th>5</th>\n",
       "      <td>Usman</td>\n",
       "      <td>28</td>\n",
       "      <td>Male</td>\n",
       "      <td>IT</td>\n",
       "      <td>77</td>\n",
       "      <td>3</td>\n",
       "    </tr>\n",
       "    <tr>\n",
       "      <th>6</th>\n",
       "      <td>Noor</td>\n",
       "      <td>27</td>\n",
       "      <td>Female</td>\n",
       "      <td>HR</td>\n",
       "      <td>89</td>\n",
       "      <td>2</td>\n",
       "    </tr>\n",
       "    <tr>\n",
       "      <th>7</th>\n",
       "      <td>Ahmed</td>\n",
       "      <td>24</td>\n",
       "      <td>Male</td>\n",
       "      <td>Finance</td>\n",
       "      <td>90</td>\n",
       "      <td>5</td>\n",
       "    </tr>\n",
       "  </tbody>\n",
       "</table>\n",
       "</div>"
      ],
      "text/plain": [
       "    Name  Age  Gender Department  Score  Experience_Years\n",
       "3  Hamza   24    Male      Sales     88                 2\n",
       "4   Mina   26  Female    Finance     95                 4\n",
       "5  Usman   28    Male         IT     77                 3\n",
       "6   Noor   27  Female         HR     89                 2\n",
       "7  Ahmed   24    Male    Finance     90                 5"
      ]
     },
     "execution_count": 14,
     "metadata": {},
     "output_type": "execute_result"
    }
   ],
   "source": [
    "df.tail()"
   ]
  }
 ],
 "metadata": {
  "kernelspec": {
   "display_name": "Python 3 (ipykernel)",
   "language": "python",
   "name": "python3"
  },
  "language_info": {
   "codemirror_mode": {
    "name": "ipython",
    "version": 3
   },
   "file_extension": ".py",
   "mimetype": "text/x-python",
   "name": "python",
   "nbconvert_exporter": "python",
   "pygments_lexer": "ipython3",
   "version": "3.12.6"
  }
 },
 "nbformat": 4,
 "nbformat_minor": 5
}
