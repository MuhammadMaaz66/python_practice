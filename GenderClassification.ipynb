{
 "cells": [
  {
   "cell_type": "code",
   "execution_count": 1,
   "id": "19f0c069-4374-401f-a572-afcb00277ed0",
   "metadata": {},
   "outputs": [],
   "source": [
    "from sklearn import tree\n",
    "data = [\n",
    "    [181, 80, 44],\n",
    "    [165, 60, 39],\n",
    "    [172, 68, 41],\n",
    "    [190, 95, 46],\n",
    "    [158, 52, 37],\n",
    "    [177, 75, 43],\n",
    "    [183, 85, 45],\n",
    "    [169, 65, 40],\n",
    "    [175, 70, 42],\n",
    "    [162, 55, 38],\n",
    "    [185, 90, 44],\n",
    "    [178, 73, 42],\n",
    "    [160, 50, 36],\n",
    "    [168, 62, 39],\n",
    "    [182, 82, 43]\n",
    "]\n",
    "gender = [\n",
    "    'male',\n",
    "    'female',\n",
    "    'male',\n",
    "    'male',\n",
    "    'female',\n",
    "    'male',\n",
    "    'male',\n",
    "    'female',\n",
    "    'male',\n",
    "    'female',\n",
    "    'male',\n",
    "    'male',\n",
    "    'female',\n",
    "    'female',\n",
    "    'male'\n",
    "]\n",
    "clf = tree.DecisionTreeClassifier() # DecisionTreeClassifier to create a decision tree\n",
    "clf  = clf.fit(data, gender) # fit method trains the classifier"
   ]
  },
  {
   "cell_type": "code",
   "execution_count": 3,
   "id": "9a0a48bc-1d1a-4d6d-b66f-f31965e9a6de",
   "metadata": {},
   "outputs": [
    {
     "name": "stdout",
     "output_type": "stream",
     "text": [
      "['male']\n"
     ]
    }
   ],
   "source": [
    "prediction = clf.predict([[190, 70, 43]])\n",
    "print(prediction)"
   ]
  }
 ],
 "metadata": {
  "kernelspec": {
   "display_name": "Python 3 (ipykernel)",
   "language": "python",
   "name": "python3"
  },
  "language_info": {
   "codemirror_mode": {
    "name": "ipython",
    "version": 3
   },
   "file_extension": ".py",
   "mimetype": "text/x-python",
   "name": "python",
   "nbconvert_exporter": "python",
   "pygments_lexer": "ipython3",
   "version": "3.12.6"
  }
 },
 "nbformat": 4,
 "nbformat_minor": 5
}
