{
 "cells": [
  {
   "cell_type": "markdown",
   "id": "e2e44a8c-421f-4e43-b392-9e2dc671986d",
   "metadata": {},
   "source": [
    "## File Manipulation"
   ]
  },
  {
   "cell_type": "code",
   "execution_count": 13,
   "id": "28a57c45-8446-43dd-b919-84796c42eb48",
   "metadata": {},
   "outputs": [],
   "source": [
    "try:\n",
    "    # file = open('grades.txt', 'a')\n",
    "    # content = file.read()\n",
    "    # content = file.readline()\n",
    "    # content = file.readlines()\n",
    "   # with open('grades.txt', \"a\") as file:\n",
    "   #     file.write(\"\\nGill D\")\n",
    "    with open('grades.txt', 'w') as file:\n",
    "        file.write(\"ABC\")\n",
    "except FileNotFoundError:\n",
    "    print(\"File Not found!\")"
   ]
  },
  {
   "cell_type": "code",
   "execution_count": 14,
   "id": "57196a1a-9878-4f30-ae57-6d65459ca763",
   "metadata": {},
   "outputs": [
    {
     "name": "stdout",
     "output_type": "stream",
     "text": [
      "ABC\n"
     ]
    }
   ],
   "source": [
    "with open(\"grades.txt\", 'r') as file:\n",
    "    print(file.read())"
   ]
  },
  {
   "cell_type": "code",
   "execution_count": 16,
   "id": "573610b6-8823-4782-b56f-d4ef61950dba",
   "metadata": {},
   "outputs": [
    {
     "name": "stdout",
     "output_type": "stream",
     "text": [
      "file exists... opening it now!\n",
      "This is a newly created file\n"
     ]
    }
   ],
   "source": [
    "# Checking if file exists or not\n",
    "import os\n",
    "filename = \"data.txt\"\n",
    "if os.path.exists(filename):\n",
    "    print(\"file exists... opening it now!\")\n",
    "    with open(filename, 'r') as file:\n",
    "        print(file.read())\n",
    "else:\n",
    "    print('file does not exist... creating it now!')\n",
    "    with open(filename, 'w') as file:\n",
    "        file.write(\"This is a newly created file\")"
   ]
  }
 ],
 "metadata": {
  "kernelspec": {
   "display_name": "Python 3 (ipykernel)",
   "language": "python",
   "name": "python3"
  },
  "language_info": {
   "codemirror_mode": {
    "name": "ipython",
    "version": 3
   },
   "file_extension": ".py",
   "mimetype": "text/x-python",
   "name": "python",
   "nbconvert_exporter": "python",
   "pygments_lexer": "ipython3",
   "version": "3.12.6"
  }
 },
 "nbformat": 4,
 "nbformat_minor": 5
}
