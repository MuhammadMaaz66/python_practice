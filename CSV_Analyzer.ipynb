{
 "cells": [
  {
   "cell_type": "markdown",
   "id": "afde8956-d108-4719-98f9-8faafbed86cb",
   "metadata": {},
   "source": [
    "### CSV Reader/Analyzer"
   ]
  },
  {
   "cell_type": "code",
   "execution_count": 1,
   "id": "2e95f1f8-c354-4cab-9feb-d03010276cb4",
   "metadata": {},
   "outputs": [
    {
     "name": "stdout",
     "output_type": "stream",
     "text": [
      "CSV file created and data added successfully!\n"
     ]
    }
   ],
   "source": [
    "import csv\n",
    "students = [\n",
    "    ['Name', 'Age', 'Grade'],\n",
    "    ['Ali', 17, 'A'],\n",
    "    ['Sara', 18, 'B'],\n",
    "    ['John', 17, 'A'],\n",
    "    ['Areeba', 19, 'C']\n",
    "]\n",
    "with open(\"students.csv\", 'w', newline='') as file:\n",
    "    writer = csv.writer(file)\n",
    "    writer.writerows(students)\n",
    "print(\"CSV file created and data added successfully!\")"
   ]
  },
  {
   "cell_type": "code",
   "execution_count": 5,
   "id": "7b4ce12e-0fd3-4e59-bf2b-19899b24d86d",
   "metadata": {},
   "outputs": [
    {
     "name": "stdout",
     "output_type": "stream",
     "text": [
      "average Age:  17.75\n",
      "grade distribution:  {'A': 2, 'B': 1, 'C': 1}\n"
     ]
    }
   ],
   "source": [
    "with open('students.csv', newline='') as file:\n",
    "    reader = csv.DictReader(file)\n",
    "\n",
    "    ages = []\n",
    "    grade_point= {}\n",
    "\n",
    "    for row in reader:\n",
    "        ages.append(int(row['Age']))\n",
    "        grade = row['Grade']\n",
    "        if grade not in grade_point:\n",
    "            grade_point[grade] = 0\n",
    "        grade_point[grade] += 1\n",
    "\n",
    "    print(\"average Age: \", sum(ages)/len(ages))\n",
    "    print(\"grade distribution: \", grade_point)\n",
    "                               "
   ]
  },
  {
   "cell_type": "code",
   "execution_count": 6,
   "id": "1f770414-6540-4757-951a-e4667bfc5ac5",
   "metadata": {},
   "outputs": [
    {
     "name": "stdout",
     "output_type": "stream",
     "text": [
      "['Name', 'Age', 'Grade']\n",
      "['Ali', '17', 'A']\n",
      "['Sara', '18', 'B']\n",
      "['John', '17', 'A']\n",
      "['Areeba', '19', 'C']\n"
     ]
    }
   ],
   "source": [
    "import csv\n",
    "\n",
    "with open(\"students.csv\", 'r') as file:\n",
    "    reader = csv.reader(file)\n",
    "    for row in reader:\n",
    "        print(row)"
   ]
  },
  {
   "cell_type": "code",
   "execution_count": 8,
   "id": "84bc5926-cf78-4899-8354-6388765b5d76",
   "metadata": {},
   "outputs": [],
   "source": [
    "import csv \n",
    "data = [\n",
    "    ['Name', 'Age', 'Grade'],\n",
    "    ['Ali', 17, 'A'],\n",
    "    ['Sara', 18, 'B']\n",
    "]\n",
    "with open('file.csv', 'w', newline='') as file: # newline='' prevents blank lines in Windows.\n",
    "    writer = csv.writer(file)\n",
    "    writer.writerows(data)"
   ]
  },
  {
   "cell_type": "code",
   "execution_count": 11,
   "id": "48b89a0b-2fb8-400c-9b3d-180c4cadc32e",
   "metadata": {},
   "outputs": [
    {
     "name": "stdout",
     "output_type": "stream",
     "text": [
      "['Name', 'Age', 'Grade']\n",
      "['Ali', '17', 'A']\n",
      "['Sara', '18', 'B']\n",
      "['John', '19', 'A']\n"
     ]
    }
   ],
   "source": [
    "with open('file.csv', 'r') as file:\n",
    "    reader = csv.reader(file)\n",
    "    for row in reader:\n",
    "        print(row)"
   ]
  },
  {
   "cell_type": "code",
   "execution_count": 10,
   "id": "b1fda922-b3cb-45ae-833e-b6af3b532860",
   "metadata": {},
   "outputs": [],
   "source": [
    "new_student = ['John', 19, 'A']\n",
    "\n",
    "with open('file.csv', 'a', newline='') as file:\n",
    "    writer = csv.writer(file)\n",
    "    writer.writerow(new_student)"
   ]
  },
  {
   "cell_type": "code",
   "execution_count": 12,
   "id": "284c09dd-2e89-4672-944b-c7c549e46f4a",
   "metadata": {},
   "outputs": [
    {
     "name": "stdout",
     "output_type": "stream",
     "text": [
      "Ali A\n",
      "Sara B\n",
      "John A\n"
     ]
    }
   ],
   "source": [
    "# reading as dictionary\n",
    "with open('file.csv', 'r') as file:\n",
    "    reader = csv.DictReader(file)\n",
    "    for row in reader:\n",
    "        print(row['Name'], row['Grade'])"
   ]
  },
  {
   "cell_type": "code",
   "execution_count": 15,
   "id": "0f3f286e-e343-490c-9c25-8fd26db85dd0",
   "metadata": {},
   "outputs": [],
   "source": [
    "# writing as dictionary\n",
    "field_names = ['Name', 'age', 'gender']\n",
    "data = [\n",
    "    {'Name': 'Areeba', 'age': 20, 'gender': 'F'},\n",
    "    {'Name': 'Hassan', 'age': 18, 'gender': 'M'}\n",
    "]\n",
    "\n",
    "with open('gender.csv', 'w', newline='') as file:\n",
    "    writer = csv.DictWriter(file, fieldnames=field_names)\n",
    "    writer.writeheader()\n",
    "    writer.writerows(data)"
   ]
  },
  {
   "cell_type": "code",
   "execution_count": 18,
   "id": "d889219d-8a20-4cff-936d-4de738dffac7",
   "metadata": {},
   "outputs": [
    {
     "name": "stdout",
     "output_type": "stream",
     "text": [
      "{'Name': 'Areeba', 'age': '20', 'gender': 'F'}\n",
      "Areeba -> F\n",
      "{'Name': 'Hassan', 'age': '18', 'gender': 'M'}\n",
      "Hassan -> M\n"
     ]
    }
   ],
   "source": [
    "with open('gender.csv', 'r') as file:\n",
    "    reader = csv.DictReader(file)\n",
    "    for row in reader:\n",
    "        print(row)\n",
    "        print(row['Name'], '->', row['gender'])"
   ]
  },
  {
   "cell_type": "code",
   "execution_count": null,
   "id": "1a15b256-8e85-4cc2-9512-ebaec25a1c37",
   "metadata": {},
   "outputs": [],
   "source": []
  }
 ],
 "metadata": {
  "kernelspec": {
   "display_name": "Python 3 (ipykernel)",
   "language": "python",
   "name": "python3"
  },
  "language_info": {
   "codemirror_mode": {
    "name": "ipython",
    "version": 3
   },
   "file_extension": ".py",
   "mimetype": "text/x-python",
   "name": "python",
   "nbconvert_exporter": "python",
   "pygments_lexer": "ipython3",
   "version": "3.12.6"
  }
 },
 "nbformat": 4,
 "nbformat_minor": 5
}
